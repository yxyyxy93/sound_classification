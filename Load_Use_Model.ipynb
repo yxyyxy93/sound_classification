{
 "cells": [
  {
   "cell_type": "code",
   "execution_count": 1,
   "metadata": {},
   "outputs": [],
   "source": [
    "import pickle\n",
    "import librosa\n",
    "import numpy as np\n",
    "import os\n",
    "\n",
    "from tkinter import *\n",
    "\n",
    "import time\n",
    " "
   ]
  },
  {
   "cell_type": "code",
   "execution_count": 2,
   "metadata": {},
   "outputs": [
    {
     "name": "stderr",
     "output_type": "stream",
     "text": [
      "Using TensorFlow backend.\n"
     ]
    },
    {
     "name": "stdout",
     "output_type": "stream",
     "text": [
      "WARNING:tensorflow:From D:\\anaconda\\lib\\site-packages\\keras\\backend\\tensorflow_backend.py:517: The name tf.placeholder is deprecated. Please use tf.compat.v1.placeholder instead.\n",
      "\n",
      "WARNING:tensorflow:From D:\\anaconda\\lib\\site-packages\\keras\\backend\\tensorflow_backend.py:4138: The name tf.random_uniform is deprecated. Please use tf.random.uniform instead.\n",
      "\n",
      "WARNING:tensorflow:From D:\\anaconda\\lib\\site-packages\\keras\\backend\\tensorflow_backend.py:3976: The name tf.nn.max_pool is deprecated. Please use tf.nn.max_pool2d instead.\n",
      "\n",
      "WARNING:tensorflow:From D:\\anaconda\\lib\\site-packages\\keras\\backend\\tensorflow_backend.py:131: The name tf.get_default_graph is deprecated. Please use tf.compat.v1.get_default_graph instead.\n",
      "\n",
      "WARNING:tensorflow:From D:\\anaconda\\lib\\site-packages\\keras\\backend\\tensorflow_backend.py:133: The name tf.placeholder_with_default is deprecated. Please use tf.compat.v1.placeholder_with_default instead.\n",
      "\n",
      "WARNING:tensorflow:From D:\\anaconda\\lib\\site-packages\\keras\\backend\\tensorflow_backend.py:3445: calling dropout (from tensorflow.python.ops.nn_ops) with keep_prob is deprecated and will be removed in a future version.\n",
      "Instructions for updating:\n",
      "Please use `rate` instead of `keep_prob`. Rate should be set to `rate = 1 - keep_prob`.\n",
      "WARNING:tensorflow:From D:\\anaconda\\lib\\site-packages\\keras\\backend\\tensorflow_backend.py:174: The name tf.get_default_session is deprecated. Please use tf.compat.v1.get_default_session instead.\n",
      "\n",
      "WARNING:tensorflow:From D:\\anaconda\\lib\\site-packages\\keras\\optimizers.py:790: The name tf.train.Optimizer is deprecated. Please use tf.compat.v1.train.Optimizer instead.\n",
      "\n",
      "WARNING:tensorflow:From D:\\anaconda\\lib\\site-packages\\tensorflow\\python\\ops\\math_grad.py:1250: add_dispatch_support.<locals>.wrapper (from tensorflow.python.ops.array_ops) is deprecated and will be removed in a future version.\n",
      "Instructions for updating:\n",
      "Use tf.where in 2.0, which has the same broadcast rule as np.where\n"
     ]
    },
    {
     "data": {
      "text/plain": [
       "[<tf.Variable 'conv2d_7/kernel:0' shape=(5, 5, 1, 24) dtype=float32_ref>,\n",
       " <tf.Variable 'conv2d_7/bias:0' shape=(24,) dtype=float32_ref>,\n",
       " <tf.Variable 'conv2d_8/kernel:0' shape=(5, 5, 24, 48) dtype=float32_ref>,\n",
       " <tf.Variable 'conv2d_8/bias:0' shape=(48,) dtype=float32_ref>,\n",
       " <tf.Variable 'conv2d_9/kernel:0' shape=(5, 5, 48, 48) dtype=float32_ref>,\n",
       " <tf.Variable 'conv2d_9/bias:0' shape=(48,) dtype=float32_ref>,\n",
       " <tf.Variable 'dense_5/kernel:0' shape=(2400, 64) dtype=float32_ref>,\n",
       " <tf.Variable 'dense_5/bias:0' shape=(64,) dtype=float32_ref>,\n",
       " <tf.Variable 'dense_6/kernel:0' shape=(64, 5) dtype=float32_ref>,\n",
       " <tf.Variable 'dense_6/bias:0' shape=(5,) dtype=float32_ref>]"
      ]
     },
     "execution_count": 2,
     "metadata": {},
     "output_type": "execute_result"
    }
   ],
   "source": [
    "# load the model \n",
    "filename = 'trained_model.sav'\n",
    "load_model =pickle.load(open(filename, 'rb'))\n",
    "load_model.weights"
   ]
  },
  {
   "cell_type": "code",
   "execution_count": 3,
   "metadata": {},
   "outputs": [
    {
     "data": {
      "text/plain": [
       "[['Cheers', 0],\n",
       " ['Drinking', 1],\n",
       " ['Opening _ Closing', 2],\n",
       " ['Pouring', 3],\n",
       " ['Shaking', 4]]"
      ]
     },
     "execution_count": 3,
     "metadata": {},
     "output_type": "execute_result"
    }
   ],
   "source": [
    "# load the encoder\n",
    "with open(\"encoderX.txt\", \"rb\") as fp:   # Unpickling\n",
    "    encoderX = pickle.load(fp)\n",
    "\n",
    "encoderX"
   ]
  },
  {
   "cell_type": "code",
   "execution_count": 4,
   "metadata": {
    "scrolled": true
   },
   "outputs": [],
   "source": [
    "\n",
    "def make_prediction(path):\n",
    "\n",
    "    D = [] # Dataset\n",
    "\n",
    "    for ID, filename in enumerate(os.listdir(path)):\n",
    "        if filename.endswith(\".wav\") or filename.endswith(\".mps\") or filename.endswith(\".m4a\"): \n",
    "            if os.path.exists(path+ '/' + filename):\n",
    "                y, sr = librosa.load(path+ '/' + filename, duration=2.97)\n",
    "                if len(y)>=65489: # ignore the too short sound\n",
    "                    ps = librosa.feature.melspectrogram(y=y, sr=sr)\n",
    "                    D.append( (ps, 0) )\n",
    "        \n",
    "    X_test, y_test = zip(*D)\n",
    "\n",
    "    X_test = np.array([x.reshape( (128, 128, 1) ) for x in X_test])\n",
    "\n",
    "    # make the predict\n",
    "    y_load_predict=load_model.predict(X_test)\n",
    "\n",
    "    y_code = y_load_predict.argmax(axis=1)\n",
    "    y_code_ratio = y_load_predict.max(axis=1)\n",
    "\n",
    "    y_label = []\n",
    "\n",
    "    # make the possibility<60% to 'others'\n",
    "    for ind, code in enumerate(y_code):\n",
    "        if y_code_ratio[ind]<0.6:\n",
    "            y_label.append(['others', 10])\n",
    "        else:\n",
    "            y_label.append(encoderX[code])\n",
    "\n",
    "    return y_label"
   ]
  },
  {
   "cell_type": "code",
   "execution_count": null,
   "metadata": {
    "scrolled": true
   },
   "outputs": [],
   "source": [
    "my_window = Tk()\n",
    "width_value = my_window.winfo_screenwidth()\n",
    "height_value = my_window.winfo_screenheight()\n",
    "my_window.geometry(\"%dx%d+0+0\" % (width_value, height_value))\n",
    "\n",
    "T = Text(my_window, height=int(height_value), width=int(width_value))\n",
    "T.pack()\n",
    "T.tag_configure('bold_italics', font=('Arial', 12, 'bold', 'italic'))\n",
    "T.tag_configure('big', font=('Verdana', 50, 'bold'))\n",
    "    \n",
    "while 1:\n",
    "    y_label = make_prediction('Test_Set')\n",
    "    T.delete('1.0', END)\n",
    "    for c in y_label:\n",
    "        T.insert(END, c[0], 'big')\n",
    "        T.insert(END, '\\n')\n",
    "    my_window.update()\n",
    "    # Wait for 1 seconds\n",
    "    time.sleep(1)"
   ]
  },
  {
   "cell_type": "code",
   "execution_count": null,
   "metadata": {},
   "outputs": [],
   "source": []
  },
  {
   "cell_type": "code",
   "execution_count": null,
   "metadata": {},
   "outputs": [],
   "source": []
  }
 ],
 "metadata": {
  "kernelspec": {
   "display_name": "Python 3",
   "language": "python",
   "name": "python3"
  },
  "language_info": {
   "codemirror_mode": {
    "name": "ipython",
    "version": 3
   },
   "file_extension": ".py",
   "mimetype": "text/x-python",
   "name": "python",
   "nbconvert_exporter": "python",
   "pygments_lexer": "ipython3",
   "version": "3.7.3"
  }
 },
 "nbformat": 4,
 "nbformat_minor": 2
}
