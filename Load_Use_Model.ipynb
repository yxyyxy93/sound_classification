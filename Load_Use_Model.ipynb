{
 "cells": [
  {
   "cell_type": "code",
   "execution_count": 15,
   "metadata": {},
   "outputs": [],
   "source": [
    "import pickle\n",
    "import librosa\n",
    "import numpy as np"
   ]
  },
  {
   "cell_type": "code",
   "execution_count": 64,
   "metadata": {},
   "outputs": [
    {
     "data": {
      "text/plain": [
       "[<tf.Variable 'conv2d_12_2/kernel:0' shape=(5, 5, 1, 24) dtype=float32_ref>,\n",
       " <tf.Variable 'conv2d_12_2/bias:0' shape=(24,) dtype=float32_ref>,\n",
       " <tf.Variable 'conv2d_13_2/kernel:0' shape=(5, 5, 24, 48) dtype=float32_ref>,\n",
       " <tf.Variable 'conv2d_13_2/bias:0' shape=(48,) dtype=float32_ref>,\n",
       " <tf.Variable 'conv2d_14_2/kernel:0' shape=(5, 5, 48, 48) dtype=float32_ref>,\n",
       " <tf.Variable 'conv2d_14_2/bias:0' shape=(48,) dtype=float32_ref>,\n",
       " <tf.Variable 'dense_7_2/kernel:0' shape=(2400, 64) dtype=float32_ref>,\n",
       " <tf.Variable 'dense_7_2/bias:0' shape=(64,) dtype=float32_ref>,\n",
       " <tf.Variable 'dense_8_2/kernel:0' shape=(64, 5) dtype=float32_ref>,\n",
       " <tf.Variable 'dense_8_2/bias:0' shape=(5,) dtype=float32_ref>]"
      ]
     },
     "execution_count": 64,
     "metadata": {},
     "output_type": "execute_result"
    }
   ],
   "source": [
    "# load the model \n",
    "filename = 'trained_model.sav'\n",
    "load_model =pickle.load(open(filename, 'rb'))\n",
    "load_model.weights"
   ]
  },
  {
   "cell_type": "code",
   "execution_count": 79,
   "metadata": {},
   "outputs": [],
   "source": [
    "# Examples \n",
    "y, sr = librosa.load('Datasets/Drinking/474035__petebarry__fx-sipping-liquid-01.wav', duration=2.97)\n",
    "ps1 = librosa.feature.melspectrogram(y=y, sr=sr)\n",
    "\n",
    "y, sr = librosa.load('Datasets/Shaking/1–3 Gloucester Road 109.m4a', duration=2.97)\n",
    "ps2 = librosa.feature.melspectrogram(y=y, sr=sr)\n",
    "\n",
    "y, sr = librosa.load('Datasets/Pouring/79188__nathan-lomeli__gurgling-drinking-fountain.wav', duration=2.97)\n",
    "ps3 = librosa.feature.melspectrogram(y=y, sr=sr)\n"
   ]
  },
  {
   "cell_type": "code",
   "execution_count": 80,
   "metadata": {},
   "outputs": [],
   "source": [
    "D = [] # Dataset\n",
    "\n",
    "D.append( (ps1, 1) ) # choose random number, which is used for validation \n",
    "D.append( (ps2, 4) )\n",
    "D.append( (ps3, 3) )"
   ]
  },
  {
   "cell_type": "code",
   "execution_count": 82,
   "metadata": {},
   "outputs": [],
   "source": [
    "X_test, y_test = zip(*D)\n",
    "X_test = np.array([x.reshape( (128, 128, 1) ) for x in X_test])"
   ]
  },
  {
   "cell_type": "code",
   "execution_count": 83,
   "metadata": {},
   "outputs": [
    {
     "data": {
      "text/plain": [
       "[['Cheers', 0],\n",
       " ['Drinking', 1],\n",
       " ['Opening _ Closing', 2],\n",
       " ['Pouring', 3],\n",
       " ['Shaking', 4]]"
      ]
     },
     "execution_count": 83,
     "metadata": {},
     "output_type": "execute_result"
    }
   ],
   "source": [
    "# load the encoder\n",
    "with open(\"encoderX.txt\", \"rb\") as fp:   # Unpickling\n",
    "    encoderX = pickle.load(fp)\n",
    "\n",
    "encoderX"
   ]
  },
  {
   "cell_type": "code",
   "execution_count": 84,
   "metadata": {},
   "outputs": [],
   "source": [
    "# make the predict\n",
    "y_load_predict=load_model.predict(X_test)"
   ]
  },
  {
   "cell_type": "code",
   "execution_count": 85,
   "metadata": {},
   "outputs": [
    {
     "data": {
      "text/plain": [
       "[['Drinking', 1], ['Shaking', 4], ['Pouring', 3]]"
      ]
     },
     "execution_count": 85,
     "metadata": {},
     "output_type": "execute_result"
    }
   ],
   "source": [
    "y_label = []\n",
    "y_code = y_load_predict.argmax(axis=1)\n",
    "for code in y_code:\n",
    "    y_label.append(encoderX[code])\n",
    "\n",
    "y_label"
   ]
  },
  {
   "cell_type": "code",
   "execution_count": null,
   "metadata": {},
   "outputs": [],
   "source": []
  },
  {
   "cell_type": "code",
   "execution_count": null,
   "metadata": {},
   "outputs": [],
   "source": []
  }
 ],
 "metadata": {
  "kernelspec": {
   "display_name": "Python 3",
   "language": "python",
   "name": "python3"
  },
  "language_info": {
   "codemirror_mode": {
    "name": "ipython",
    "version": 3
   },
   "file_extension": ".py",
   "mimetype": "text/x-python",
   "name": "python",
   "nbconvert_exporter": "python",
   "pygments_lexer": "ipython3",
   "version": "3.7.4"
  }
 },
 "nbformat": 4,
 "nbformat_minor": 2
}
