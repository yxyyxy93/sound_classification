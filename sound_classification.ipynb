{
 "cells": [
  {
   "cell_type": "code",
   "execution_count": 182,
   "metadata": {},
   "outputs": [],
   "source": [
    "import keras\n",
    "from keras.layers import Activation, Dense, Dropout, Conv2D, \\\n",
    "                         Flatten, MaxPooling2D\n",
    "from keras.models import Sequential\n",
    "import librosa\n",
    "import librosa.display\n",
    "import numpy as np\n",
    "import pandas as pd\n",
    "import random\n",
    "import os\n",
    "\n",
    "import warnings\n",
    "\n",
    "import pickle\n",
    "\n",
    "warnings.filterwarnings('ignore')"
   ]
  },
  {
   "cell_type": "code",
   "execution_count": 115,
   "metadata": {},
   "outputs": [],
   "source": [
    "# creat the dataframe \n",
    "\n",
    "names = []\n",
    "classes = []\n",
    "classID = []\n",
    "\n",
    "for ID, filename in enumerate(os.listdir('Datasets')):\n",
    "    if not filename.startswith('.'):\n",
    "        for soundname in os.listdir('Datasets'+'/' + filename):\n",
    "            if soundname.endswith(\".wav\") or soundname.endswith(\".mps\") or soundname.endswith(\".m4a\"): \n",
    "                names.append(soundname)\n",
    "                classes.append(filename)\n",
    "                classID.append(ID-1)\n",
    "            else:\n",
    "                continue\n",
    "        \n",
    "#names.append()\n",
    "\n",
    "data = {'file_name':  names,\n",
    "        'classes': classes,\n",
    "        'classID': classID\n",
    "        }\n",
    "\n",
    "df = pd.DataFrame(data, columns = ['file_name', 'classes', 'classID'])"
   ]
  },
  {
   "cell_type": "code",
   "execution_count": 116,
   "metadata": {},
   "outputs": [
    {
     "data": {
      "text/html": [
       "<div>\n",
       "<style scoped>\n",
       "    .dataframe tbody tr th:only-of-type {\n",
       "        vertical-align: middle;\n",
       "    }\n",
       "\n",
       "    .dataframe tbody tr th {\n",
       "        vertical-align: top;\n",
       "    }\n",
       "\n",
       "    .dataframe thead th {\n",
       "        text-align: right;\n",
       "    }\n",
       "</style>\n",
       "<table border=\"1\" class=\"dataframe\">\n",
       "  <thead>\n",
       "    <tr style=\"text-align: right;\">\n",
       "      <th></th>\n",
       "      <th>file_name</th>\n",
       "      <th>classes</th>\n",
       "      <th>classID</th>\n",
       "    </tr>\n",
       "  </thead>\n",
       "  <tbody>\n",
       "    <tr>\n",
       "      <td>0</td>\n",
       "      <td>1–3 Gloucester Road 121.m4a</td>\n",
       "      <td>Cheers</td>\n",
       "      <td>0</td>\n",
       "    </tr>\n",
       "    <tr>\n",
       "      <td>1</td>\n",
       "      <td>1–3 Gloucester Road 122.m4a</td>\n",
       "      <td>Cheers</td>\n",
       "      <td>0</td>\n",
       "    </tr>\n",
       "    <tr>\n",
       "      <td>2</td>\n",
       "      <td>1–3 Gloucester Road 123.m4a</td>\n",
       "      <td>Cheers</td>\n",
       "      <td>0</td>\n",
       "    </tr>\n",
       "    <tr>\n",
       "      <td>3</td>\n",
       "      <td>1–3 Gloucester Road 124.m4a</td>\n",
       "      <td>Cheers</td>\n",
       "      <td>0</td>\n",
       "    </tr>\n",
       "    <tr>\n",
       "      <td>4</td>\n",
       "      <td>1–3 Gloucester Road 125.m4a</td>\n",
       "      <td>Cheers</td>\n",
       "      <td>0</td>\n",
       "    </tr>\n",
       "  </tbody>\n",
       "</table>\n",
       "</div>"
      ],
      "text/plain": [
       "                     file_name classes  classID\n",
       "0  1–3 Gloucester Road 121.m4a  Cheers        0\n",
       "1  1–3 Gloucester Road 122.m4a  Cheers        0\n",
       "2  1–3 Gloucester Road 123.m4a  Cheers        0\n",
       "3  1–3 Gloucester Road 124.m4a  Cheers        0\n",
       "4  1–3 Gloucester Road 125.m4a  Cheers        0"
      ]
     },
     "execution_count": 116,
     "metadata": {},
     "output_type": "execute_result"
    }
   ],
   "source": [
    "df.head()"
   ]
  },
  {
   "cell_type": "code",
   "execution_count": 4,
   "metadata": {},
   "outputs": [
    {
     "data": {
      "text/plain": [
       "(128, 128)"
      ]
     },
     "execution_count": 4,
     "metadata": {},
     "output_type": "execute_result"
    }
   ],
   "source": [
    "# Example of a Siren spectrogram\n",
    "y, sr = librosa.load('Datasets/Drinking/20213__modcam__drinking-water.wav', duration=2.97)\n",
    "ps = librosa.feature.melspectrogram(y=y, sr=sr)\n",
    "ps.shape"
   ]
  },
  {
   "cell_type": "code",
   "execution_count": 5,
   "metadata": {
    "scrolled": true
   },
   "outputs": [
    {
     "data": {
      "text/plain": [
       "<matplotlib.axes._subplots.AxesSubplot at 0x22bf1bacdc8>"
      ]
     },
     "execution_count": 5,
     "metadata": {},
     "output_type": "execute_result"
    }
   ],
   "source": [
    "librosa.display.specshow(ps, y_axis='mel', x_axis='time')"
   ]
  },
  {
   "cell_type": "code",
   "execution_count": 7,
   "metadata": {},
   "outputs": [
    {
     "data": {
      "text/plain": [
       "<matplotlib.axes._subplots.AxesSubplot at 0x22bf1dc8688>"
      ]
     },
     "execution_count": 7,
     "metadata": {},
     "output_type": "execute_result"
    },
    {
     "data": {
      "image/png": "[encoded data removed]",
      "text/plain": [
       "<Figure size 432x288 with 1 Axes>"
      ]
     },
     "metadata": {
      "needs_background": "light"
     },
     "output_type": "display_data"
    }
   ],
   "source": [
    "librosa.display.specshow(ps, y_axis='mel', x_axis='time')"
   ]
  },
  {
   "cell_type": "code",
   "execution_count": 10,
   "metadata": {},
   "outputs": [
    {
     "data": {
      "text/plain": [
       "(128, 128)"
      ]
     },
     "execution_count": 10,
     "metadata": {},
     "output_type": "execute_result"
    }
   ],
   "source": [
    "# Example of a children playing spectrogram\n",
    "y, sr = librosa.load('Datasets/Pouring/79188__nathan-lomeli__gurgling-drinking-fountain.wav', duration=2.97)\n",
    "ps = librosa.feature.melspectrogram(y=y, sr=sr)\n",
    "ps.shape"
   ]
  },
  {
   "cell_type": "code",
   "execution_count": 11,
   "metadata": {},
   "outputs": [
    {
     "data": {
      "text/plain": [
       "<matplotlib.axes._subplots.AxesSubplot at 0x22bf1fcbe08>"
      ]
     },
     "execution_count": 11,
     "metadata": {},
     "output_type": "execute_result"
    },
    {
     "data": {
      "image/png": "[encoded data removed]",
      "text/plain": [
       "<Figure size 432x288 with 1 Axes>"
      ]
     },
     "metadata": {
      "needs_background": "light"
     },
     "output_type": "display_data"
    }
   ],
   "source": [
    "librosa.display.specshow(ps, y_axis='mel', x_axis='time')"
   ]
  },
  {
   "cell_type": "code",
   "execution_count": 12,
   "metadata": {},
   "outputs": [
    {
     "data": {
      "text/plain": [
       "(128, 128)"
      ]
     },
     "execution_count": 12,
     "metadata": {},
     "output_type": "execute_result"
    }
   ],
   "source": [
    "# Example of a drilling spectrogram\n",
    "y, sr = librosa.load('Datasets/Shaking/1–3 Gloucester Road 69.m4a', duration=2.97)\n",
    "ps = librosa.feature.melspectrogram(y=y, sr=sr)\n",
    "ps.shape"
   ]
  },
  {
   "cell_type": "code",
   "execution_count": 13,
   "metadata": {},
   "outputs": [
    {
     "data": {
      "text/plain": [
       "<matplotlib.axes._subplots.AxesSubplot at 0x22bf2025f48>"
      ]
     },
     "execution_count": 13,
     "metadata": {},
     "output_type": "execute_result"
    },
    {
     "data": {
      "image/png": "[encoded data removed]",
      "text/plain": [
       "<Figure size 432x288 with 1 Axes>"
      ]
     },
     "metadata": {
      "needs_background": "light"
     },
     "output_type": "display_data"
    }
   ],
   "source": [
    "librosa.display.specshow(ps, y_axis='mel', x_axis='time')"
   ]
  },
  {
   "cell_type": "markdown",
   "metadata": {},
   "source": [
    "Iterate over all samples in _valid_.\n",
    "For every sample, construct the (128,128) spectrogram"
   ]
  },
  {
   "cell_type": "code",
   "execution_count": 118,
   "metadata": {},
   "outputs": [],
   "source": [
    "df['path'] = 'Datasets/' + df['classes'] + '/' + df['file_name']"
   ]
  },
  {
   "cell_type": "code",
   "execution_count": 119,
   "metadata": {},
   "outputs": [
    {
     "name": "stdout",
     "output_type": "stream",
     "text": [
      "0 / 637\n",
      "100 / 637\n",
      "200 / 637\n",
      "300 / 637\n",
      "400 / 637\n",
      "500 / 637\n",
      "600 / 637\n"
     ]
    }
   ],
   "source": [
    "D = [] # Dataset\n",
    "\n",
    "for count, row in enumerate(df.itertuples()):\n",
    "    y, sr = librosa.load(row.path, duration=2.97)  \n",
    "    ps = librosa.feature.melspectrogram(y=y, sr=sr)\n",
    "    if ps.shape != (128, 128):\n",
    "        continue\n",
    "    D.append( (ps, row.classID) )\n",
    "    if count%100==0:\n",
    "        print(count, '/', len(df))"
   ]
  },
  {
   "cell_type": "code",
   "execution_count": 17,
   "metadata": {},
   "outputs": [
    {
     "name": "stdout",
     "output_type": "stream",
     "text": [
      "Number of samples:  586\n"
     ]
    }
   ],
   "source": [
    "print(\"Number of samples: \", len(D))"
   ]
  },
  {
   "cell_type": "code",
   "execution_count": 18,
   "metadata": {},
   "outputs": [],
   "source": [
    "dataset = D\n",
    "random.shuffle(dataset)\n",
    "\n",
    "train = dataset[:500]\n",
    "test = dataset[500:]\n",
    "\n",
    "X_train, y_train = zip(*train)\n",
    "X_test, y_test = zip(*test)\n",
    "\n",
    "# Reshape for CNN input\n",
    "X_train = np.array([x.reshape( (128, 128, 1) ) for x in X_train])\n",
    "X_test = np.array([x.reshape( (128, 128, 1) ) for x in X_test])\n",
    "\n",
    "# One-Hot encoding for classes\n",
    "y_train = np.array(keras.utils.to_categorical(y_train, 5))\n",
    "y_test = np.array(keras.utils.to_categorical(y_test, 5))"
   ]
  },
  {
   "cell_type": "code",
   "execution_count": 19,
   "metadata": {},
   "outputs": [
    {
     "name": "stdout",
     "output_type": "stream",
     "text": [
      "WARNING:tensorflow:From C:\\Users\\xiayang\\AppData\\Local\\Continuum\\anaconda3\\lib\\site-packages\\keras\\backend\\tensorflow_backend.py:74: The name tf.get_default_graph is deprecated. Please use tf.compat.v1.get_default_graph instead.\n",
      "\n",
      "WARNING:tensorflow:From C:\\Users\\xiayang\\AppData\\Local\\Continuum\\anaconda3\\lib\\site-packages\\keras\\backend\\tensorflow_backend.py:517: The name tf.placeholder is deprecated. Please use tf.compat.v1.placeholder instead.\n",
      "\n",
      "WARNING:tensorflow:From C:\\Users\\xiayang\\AppData\\Local\\Continuum\\anaconda3\\lib\\site-packages\\keras\\backend\\tensorflow_backend.py:4138: The name tf.random_uniform is deprecated. Please use tf.random.uniform instead.\n",
      "\n",
      "WARNING:tensorflow:From C:\\Users\\xiayang\\AppData\\Local\\Continuum\\anaconda3\\lib\\site-packages\\keras\\backend\\tensorflow_backend.py:3976: The name tf.nn.max_pool is deprecated. Please use tf.nn.max_pool2d instead.\n",
      "\n",
      "WARNING:tensorflow:From C:\\Users\\xiayang\\AppData\\Local\\Continuum\\anaconda3\\lib\\site-packages\\keras\\backend\\tensorflow_backend.py:133: The name tf.placeholder_with_default is deprecated. Please use tf.compat.v1.placeholder_with_default instead.\n",
      "\n",
      "WARNING:tensorflow:From C:\\Users\\xiayang\\AppData\\Local\\Continuum\\anaconda3\\lib\\site-packages\\keras\\backend\\tensorflow_backend.py:3445: calling dropout (from tensorflow.python.ops.nn_ops) with keep_prob is deprecated and will be removed in a future version.\n",
      "Instructions for updating:\n",
      "Please use `rate` instead of `keep_prob`. Rate should be set to `rate = 1 - keep_prob`.\n"
     ]
    }
   ],
   "source": [
    "model = Sequential()\n",
    "input_shape=(128, 128, 1)\n",
    "\n",
    "model.add(Conv2D(24, (5, 5), strides=(1, 1), input_shape=input_shape))\n",
    "model.add(MaxPooling2D((4, 2), strides=(4, 2)))\n",
    "model.add(Activation('relu'))\n",
    "\n",
    "model.add(Conv2D(48, (5, 5), padding=\"valid\"))\n",
    "model.add(MaxPooling2D((4, 2), strides=(4, 2)))\n",
    "model.add(Activation('relu'))\n",
    "\n",
    "model.add(Conv2D(48, (5, 5), padding=\"valid\"))\n",
    "model.add(Activation('relu'))\n",
    "\n",
    "model.add(Flatten())\n",
    "model.add(Dropout(rate=0.5))\n",
    "\n",
    "model.add(Dense(64))\n",
    "model.add(Activation('relu'))\n",
    "model.add(Dropout(rate=0.5))\n",
    "\n",
    "model.add(Dense(5))\n",
    "model.add(Activation('softmax'))"
   ]
  },
  {
   "cell_type": "code",
   "execution_count": 20,
   "metadata": {},
   "outputs": [
    {
     "name": "stdout",
     "output_type": "stream",
     "text": [
      "WARNING:tensorflow:From C:\\Users\\xiayang\\AppData\\Local\\Continuum\\anaconda3\\lib\\site-packages\\keras\\optimizers.py:790: The name tf.train.Optimizer is deprecated. Please use tf.compat.v1.train.Optimizer instead.\n",
      "\n",
      "WARNING:tensorflow:From C:\\Users\\xiayang\\AppData\\Local\\Continuum\\anaconda3\\lib\\site-packages\\keras\\backend\\tensorflow_backend.py:3295: The name tf.log is deprecated. Please use tf.math.log instead.\n",
      "\n",
      "WARNING:tensorflow:From C:\\Users\\xiayang\\AppData\\Local\\Continuum\\anaconda3\\lib\\site-packages\\tensorflow_core\\python\\ops\\math_grad.py:1424: where (from tensorflow.python.ops.array_ops) is deprecated and will be removed in a future version.\n",
      "Instructions for updating:\n",
      "Use tf.where in 2.0, which has the same broadcast rule as np.where\n",
      "WARNING:tensorflow:From C:\\Users\\xiayang\\AppData\\Local\\Continuum\\anaconda3\\lib\\site-packages\\keras\\backend\\tensorflow_backend.py:986: The name tf.assign_add is deprecated. Please use tf.compat.v1.assign_add instead.\n",
      "\n",
      "WARNING:tensorflow:From C:\\Users\\xiayang\\AppData\\Local\\Continuum\\anaconda3\\lib\\site-packages\\keras\\backend\\tensorflow_backend.py:973: The name tf.assign is deprecated. Please use tf.compat.v1.assign instead.\n",
      "\n",
      "WARNING:tensorflow:From C:\\Users\\xiayang\\AppData\\Local\\Continuum\\anaconda3\\lib\\site-packages\\keras\\backend\\tensorflow_backend.py:2741: The name tf.Session is deprecated. Please use tf.compat.v1.Session instead.\n",
      "\n",
      "Train on 500 samples, validate on 86 samples\n",
      "Epoch 1/12\n",
      "WARNING:tensorflow:From C:\\Users\\xiayang\\AppData\\Local\\Continuum\\anaconda3\\lib\\site-packages\\keras\\backend\\tensorflow_backend.py:174: The name tf.get_default_session is deprecated. Please use tf.compat.v1.get_default_session instead.\n",
      "\n",
      "WARNING:tensorflow:From C:\\Users\\xiayang\\AppData\\Local\\Continuum\\anaconda3\\lib\\site-packages\\keras\\backend\\tensorflow_backend.py:181: The name tf.ConfigProto is deprecated. Please use tf.compat.v1.ConfigProto instead.\n",
      "\n",
      "WARNING:tensorflow:From C:\\Users\\xiayang\\AppData\\Local\\Continuum\\anaconda3\\lib\\site-packages\\keras\\backend\\tensorflow_backend.py:190: The name tf.global_variables is deprecated. Please use tf.compat.v1.global_variables instead.\n",
      "\n",
      "WARNING:tensorflow:From C:\\Users\\xiayang\\AppData\\Local\\Continuum\\anaconda3\\lib\\site-packages\\keras\\backend\\tensorflow_backend.py:199: The name tf.is_variable_initialized is deprecated. Please use tf.compat.v1.is_variable_initialized instead.\n",
      "\n",
      "WARNING:tensorflow:From C:\\Users\\xiayang\\AppData\\Local\\Continuum\\anaconda3\\lib\\site-packages\\keras\\backend\\tensorflow_backend.py:206: The name tf.variables_initializer is deprecated. Please use tf.compat.v1.variables_initializer instead.\n",
      "\n",
      "500/500 [==============================] - 4s 9ms/step - loss: 2.0307 - acc: 0.2420 - val_loss: 1.5242 - val_acc: 0.4535\n",
      "Epoch 2/12\n",
      "500/500 [==============================] - 4s 7ms/step - loss: 1.5221 - acc: 0.3500 - val_loss: 1.4636 - val_acc: 0.4535\n",
      "Epoch 3/12\n",
      "500/500 [==============================] - 3s 6ms/step - loss: 1.4105 - acc: 0.4120 - val_loss: 1.4120 - val_acc: 0.4651\n",
      "Epoch 4/12\n",
      "500/500 [==============================] - 3s 6ms/step - loss: 1.3761 - acc: 0.4180 - val_loss: 1.4300 - val_acc: 0.4767\n",
      "Epoch 5/12\n",
      "500/500 [==============================] - 3s 6ms/step - loss: 1.3331 - acc: 0.4400 - val_loss: 1.4535 - val_acc: 0.4651\n",
      "Epoch 6/12\n",
      "500/500 [==============================] - 3s 6ms/step - loss: 1.2536 - acc: 0.4580 - val_loss: 1.4992 - val_acc: 0.4767\n",
      "Epoch 7/12\n",
      "500/500 [==============================] - 3s 6ms/step - loss: 1.2167 - acc: 0.4740 - val_loss: 1.5638 - val_acc: 0.4884\n",
      "Epoch 8/12\n",
      "500/500 [==============================] - 3s 6ms/step - loss: 1.1907 - acc: 0.4560 - val_loss: 1.5925 - val_acc: 0.4767\n",
      "Epoch 9/12\n",
      "500/500 [==============================] - 3s 6ms/step - loss: 1.1594 - acc: 0.4500 - val_loss: 1.6115 - val_acc: 0.4767\n",
      "Epoch 10/12\n",
      "500/500 [==============================] - 3s 6ms/step - loss: 1.1251 - acc: 0.4840 - val_loss: 1.5898 - val_acc: 0.5233\n",
      "Epoch 11/12\n",
      "500/500 [==============================] - 3s 6ms/step - loss: 1.1165 - acc: 0.5200 - val_loss: 1.4990 - val_acc: 0.5349\n",
      "Epoch 12/12\n",
      "500/500 [==============================] - 3s 6ms/step - loss: 1.1221 - acc: 0.5400 - val_loss: 1.4710 - val_acc: 0.5000\n",
      "86/86 [==============================] - 0s 2ms/step\n",
      "Test loss: 1.4709721581880437\n",
      "Test accuracy: 0.4999999930692274\n"
     ]
    }
   ],
   "source": [
    "model.compile(\n",
    "\toptimizer=\"Adam\",\n",
    "\tloss=\"categorical_crossentropy\",\n",
    "\tmetrics=['accuracy'])\n",
    "\n",
    "model.fit(\n",
    "\tx=X_train, \n",
    "\ty=y_train,\n",
    "    epochs=12,\n",
    "    batch_size=128,\n",
    "    validation_data= (X_test, y_test))\n",
    "\n",
    "score = model.evaluate(\n",
    "\tx=X_test,\n",
    "\ty=y_test)\n",
    "\n",
    "print('Test loss:', score[0])\n",
    "print('Test accuracy:', score[1])"
   ]
  },
  {
   "cell_type": "markdown",
   "metadata": {},
   "source": [
    "## Data Augmentation\n",
    "\n",
    "### 1. Vary Time"
   ]
  },
  {
   "cell_type": "code",
   "execution_count": 85,
   "metadata": {
    "scrolled": true
   },
   "outputs": [
    {
     "name": "stdout",
     "output_type": "stream",
     "text": [
      "Directory  augmented/Cheers/speed_81  Created \n"
     ]
    }
   ],
   "source": [
    "y, sr = librosa.load('Datasets/Cheers/1–3 Gloucester Road 127.m4a', duration=2.97)\n",
    "y_changed = librosa.effects.time_stretch(y, rate=0.81)\n",
    "\n",
    "dirName = 'augmented/Cheers/speed_81'\n",
    "# Create target directory & all intermediate directories if don't exists\n",
    "try:\n",
    "    os.makedirs(dirName)    \n",
    "    print(\"Directory \" , dirName ,  \" Created \")\n",
    "except FileExistsError:\n",
    "    print(\"Directory \" , dirName ,  \" already exists\")  \n",
    "\n",
    "librosa.output.write_wav(dirName + '/' + '1–3 Gloucester Road 127.wav' ,y_changed, sr)"
   ]
  },
  {
   "cell_type": "code",
   "execution_count": 97,
   "metadata": {
    "scrolled": true
   },
   "outputs": [
    {
     "name": "stdout",
     "output_type": "stream",
     "text": [
      "0 / 637\n",
      "100 / 637\n",
      "200 / 637\n",
      "300 / 637\n",
      "400 / 637\n",
      "500 / 637\n",
      "600 / 637\n"
     ]
    }
   ],
   "source": [
    "rate = 1.07 # replace with 0.81 and execute again\n",
    "\n",
    "for count, row in enumerate(df.itertuples()):\n",
    "    y, sr = librosa.load(row.path)  \n",
    "    y_changed = librosa.effects.time_stretch(y, rate=rate)\n",
    "    dirName = 'augmented/' + str(row.classes) + '/speed_' + str(int(rate*100))\n",
    "    # Create target directory & all intermediate directories if don't exists\n",
    "    try:\n",
    "        os.makedirs(dirName)    \n",
    "    except FileExistsError:   \n",
    "        if count%100==0:\n",
    "            print(count, '/', len(df)) \n",
    "        # print(\"Directory \" , dirName ,  \" already exists\")  \n",
    "    librosa.output.write_wav(dirName + '/' + row.file_name ,y_changed, sr)\n",
    "\n",
    "    "
   ]
  },
  {
   "cell_type": "markdown",
   "metadata": {},
   "source": [
    "### 2. Vary pitch"
   ]
  },
  {
   "cell_type": "code",
   "execution_count": 98,
   "metadata": {},
   "outputs": [
    {
     "name": "stdout",
     "output_type": "stream",
     "text": [
      "0 / 637\n",
      "100 / 637\n",
      "200 / 637\n",
      "300 / 637\n",
      "400 / 637\n",
      "500 / 637\n",
      "600 / 637\n"
     ]
    }
   ],
   "source": [
    "n_steps = 2 #-1, -2, 2, 1\n",
    "\n",
    "for count, row in enumerate(df.itertuples()):\n",
    "    y, sr = librosa.load(row.path)  \n",
    "    y_changed = librosa.effects.pitch_shift(y, sr, n_steps=n_steps)\n",
    "    dirName = 'augmented/' + str(row.classes) + '/ps1_' + str(int(n_steps))\n",
    "    # Create target directory & all intermediate directories if don't exists\n",
    "    try:\n",
    "        os.makedirs(dirName)    \n",
    "    except FileExistsError:  \n",
    "        if count%100==0:\n",
    "            print(count, '/', len(df)) \n",
    "        # print(\"Directory \" , dirName ,  \" already exists\")  \n",
    "    librosa.output.write_wav(dirName + '/' + row.file_name ,y_changed, sr)\n",
    "\n",
    "        "
   ]
  },
  {
   "cell_type": "markdown",
   "metadata": {},
   "source": [
    "### 3. Change Pitch (PS2)"
   ]
  },
  {
   "cell_type": "code",
   "execution_count": 99,
   "metadata": {},
   "outputs": [
    {
     "name": "stdout",
     "output_type": "stream",
     "text": [
      "0 / 637\n",
      "100 / 637\n",
      "200 / 637\n",
      "300 / 637\n",
      "400 / 637\n",
      "500 / 637\n",
      "600 / 637\n"
     ]
    }
   ],
   "source": [
    "n_steps = 2.5 #-2.5, -3.5, 2.5, 3.5\n",
    "\n",
    "for count, row in enumerate(df.itertuples()):\n",
    "    y, sr = librosa.load(row.path)  \n",
    "    y_changed = librosa.effects.pitch_shift(y, sr, n_steps=n_steps)\n",
    "    dirName = 'augmented/' + str(row.classes) + '/ps2_' + str(int(10*n_steps))\n",
    "    # Create target directory & all intermediate directories if don't exists\n",
    "    try:\n",
    "        os.makedirs(dirName)    \n",
    "    except FileExistsError:\n",
    "        if count%100==0:\n",
    "            print(count, '/', len(df)) \n",
    "        # print(\"Directory \" , dirName ,  \" already exists\")  \n",
    "    librosa.output.write_wav(dirName + '/' + row.file_name ,y_changed, sr)\n",
    "    "
   ]
  },
  {
   "cell_type": "code",
   "execution_count": 120,
   "metadata": {},
   "outputs": [],
   "source": [
    "paths=[]\n",
    "names = []\n",
    "classes = []\n",
    "classID = []\n",
    "\n",
    "for ID, filename in enumerate(os.listdir('augmented')):\n",
    "    for classname in os.listdir('augmented'+'/' + filename):\n",
    "        for soundname in os.listdir('augmented'+'/' + filename + '/' + classname):\n",
    "            if soundname.endswith(\".wav\") or soundname.endswith(\".mps\") or soundname.endswith(\".m4a\"): \n",
    "                names.append(soundname)\n",
    "                classes.append(filename)\n",
    "                classID.append(ID)\n",
    "                paths.append('augmented' + '/' + filename + '/' + classname + '/' + soundname)\n",
    "            else:\n",
    "                continue\n",
    "                \n",
    "data_aug = {'file_name':  names,\n",
    "        'classes': classes,\n",
    "        'classID': classID,\n",
    "        'path': paths\n",
    "        }\n",
    "\n",
    "df_aug = pd.DataFrame(data_aug, columns = ['file_name', 'classes', 'classID', 'path'])\n",
    "df_all = df.append(df_aug)"
   ]
  },
  {
   "cell_type": "code",
   "execution_count": 122,
   "metadata": {},
   "outputs": [
    {
     "data": {
      "text/plain": [
       "586"
      ]
     },
     "execution_count": 122,
     "metadata": {},
     "output_type": "execute_result"
    }
   ],
   "source": [
    "len(D)"
   ]
  },
  {
   "cell_type": "code",
   "execution_count": 123,
   "metadata": {},
   "outputs": [
    {
     "name": "stdout",
     "output_type": "stream",
     "text": [
      "0 / 637\n",
      "100 / 637\n",
      "200 / 637\n",
      "300 / 637\n",
      "400 / 637\n",
      "500 / 637\n",
      "600 / 637\n",
      "700 / 637\n",
      "800 / 637\n",
      "900 / 637\n",
      "1000 / 637\n",
      "1100 / 637\n",
      "1200 / 637\n",
      "1300 / 637\n",
      "1400 / 637\n",
      "1500 / 637\n",
      "1600 / 637\n",
      "1700 / 637\n",
      "1800 / 637\n",
      "1900 / 637\n"
     ]
    }
   ],
   "source": [
    "# D = [] # Dataset\n",
    "\n",
    "for count, row in enumerate(df_aug.itertuples()):\n",
    "    y, sr = librosa.load(row.path, duration=2.97)  \n",
    "    ps = librosa.feature.melspectrogram(y=y, sr=sr)\n",
    "    if ps.shape != (128, 128):\n",
    "        continue\n",
    "    D.append( (ps, row.classID) )\n",
    "    if count%100==0:\n",
    "        print(count, '/', len(df_aug))"
   ]
  },
  {
   "cell_type": "code",
   "execution_count": null,
   "metadata": {},
   "outputs": [],
   "source": [
    "The dataset consists of:\n",
    "- normal samples.\n",
    "- samples Pitch modulated 2.5 semitones higher.\n",
    "- samples Pitch modeulated 2 semitones higher.\n",
    "- samples Slowed down to 0.81.\n",
    "- samples speed up by 1.07\n",
    "\n",
    "Follow the same procedure for the normal data."
   ]
  },
  {
   "cell_type": "code",
   "execution_count": 124,
   "metadata": {},
   "outputs": [
    {
     "data": {
      "text/plain": [
       "2328"
      ]
     },
     "execution_count": 124,
     "metadata": {},
     "output_type": "execute_result"
    }
   ],
   "source": [
    "len(D)"
   ]
  },
  {
   "cell_type": "code",
   "execution_count": 129,
   "metadata": {},
   "outputs": [],
   "source": [
    "dataset = D\n",
    "random.shuffle(dataset)\n",
    "\n",
    "train = dataset[:2000]\n",
    "test = dataset[2000:]\n",
    "\n",
    "X_train, y_train = zip(*train)\n",
    "X_test, y_test = zip(*test)\n",
    "\n",
    "X_train = np.array([x.reshape( (128, 128, 1) ) for x in X_train])\n",
    "X_test = np.array([x.reshape( (128, 128, 1) ) for x in X_test])\n",
    "\n",
    "y_train = np.array(keras.utils.to_categorical(y_train, 5))\n",
    "y_test = np.array(keras.utils.to_categorical(y_test, 5))"
   ]
  },
  {
   "cell_type": "code",
   "execution_count": 130,
   "metadata": {},
   "outputs": [],
   "source": [
    "model = Sequential()\n",
    "input_shape=(128, 128, 1)\n",
    "\n",
    "model.add(Conv2D(24, (5, 5), strides=(1, 1), input_shape=input_shape))\n",
    "model.add(MaxPooling2D((4, 2), strides=(4, 2)))\n",
    "model.add(Activation('relu'))\n",
    "\n",
    "model.add(Conv2D(48, (5, 5), padding=\"valid\"))\n",
    "model.add(MaxPooling2D((4, 2), strides=(4, 2)))\n",
    "model.add(Activation('relu'))\n",
    "\n",
    "model.add(Conv2D(48, (5, 5), padding=\"valid\"))\n",
    "model.add(Activation('relu'))\n",
    "\n",
    "model.add(Flatten())\n",
    "model.add(Dropout(rate=0.5))\n",
    "\n",
    "model.add(Dense(64))\n",
    "model.add(Activation('relu'))\n",
    "model.add(Dropout(rate=0.5))\n",
    "\n",
    "model.add(Dense(5))\n",
    "model.add(Activation('softmax'))"
   ]
  },
  {
   "cell_type": "code",
   "execution_count": 131,
   "metadata": {},
   "outputs": [
    {
     "name": "stdout",
     "output_type": "stream",
     "text": [
      "Train on 2000 samples, validate on 328 samples\n",
      "Epoch 1/12\n",
      "2000/2000 [==============================] - 14s 7ms/step - loss: 1.5000 - acc: 0.3725 - val_loss: 1.4110 - val_acc: 0.4268\n",
      "Epoch 2/12\n",
      "2000/2000 [==============================] - 13s 6ms/step - loss: 1.3025 - acc: 0.4430 - val_loss: 1.3195 - val_acc: 0.4573\n",
      "Epoch 3/12\n",
      "2000/2000 [==============================] - 14s 7ms/step - loss: 1.2148 - acc: 0.4710 - val_loss: 1.1910 - val_acc: 0.5305\n",
      "Epoch 4/12\n",
      "2000/2000 [==============================] - 14s 7ms/step - loss: 1.1435 - acc: 0.5305 - val_loss: 1.0443 - val_acc: 0.5610\n",
      "Epoch 5/12\n",
      "2000/2000 [==============================] - 14s 7ms/step - loss: 1.0163 - acc: 0.5845 - val_loss: 0.9522 - val_acc: 0.5793\n",
      "Epoch 6/12\n",
      "2000/2000 [==============================] - 14s 7ms/step - loss: 0.9150 - acc: 0.6205 - val_loss: 0.8609 - val_acc: 0.6585\n",
      "Epoch 7/12\n",
      "2000/2000 [==============================] - 14s 7ms/step - loss: 0.8891 - acc: 0.6465 - val_loss: 0.8308 - val_acc: 0.6555\n",
      "Epoch 8/12\n",
      "2000/2000 [==============================] - 14s 7ms/step - loss: 0.8032 - acc: 0.6835 - val_loss: 0.7363 - val_acc: 0.7226\n",
      "Epoch 9/12\n",
      "2000/2000 [==============================] - 14s 7ms/step - loss: 0.8022 - acc: 0.6900 - val_loss: 0.7200 - val_acc: 0.6921\n",
      "Epoch 10/12\n",
      "2000/2000 [==============================] - 14s 7ms/step - loss: 0.6932 - acc: 0.7350 - val_loss: 0.6108 - val_acc: 0.7409\n",
      "Epoch 11/12\n",
      "2000/2000 [==============================] - 14s 7ms/step - loss: 0.6410 - acc: 0.7525 - val_loss: 0.6466 - val_acc: 0.7409\n",
      "Epoch 12/12\n",
      "2000/2000 [==============================] - 14s 7ms/step - loss: 0.6333 - acc: 0.7650 - val_loss: 0.6186 - val_acc: 0.7591\n",
      "328/328 [==============================] - 1s 2ms/step\n",
      "Test loss: 0.6186323718326848\n",
      "Test accuracy: 0.7591463414634146\n"
     ]
    }
   ],
   "source": [
    "model.compile(\n",
    "\toptimizer=\"Adam\",\n",
    "\tloss=\"categorical_crossentropy\",\n",
    "\tmetrics=['accuracy'])\n",
    "\n",
    "model.fit(\n",
    "\tx=X_train, \n",
    "\ty=y_train,\n",
    "    epochs=12,\n",
    "    batch_size=128,\n",
    "    validation_data= (X_test, y_test))\n",
    "\n",
    "score = model.evaluate(\n",
    "\tx=X_test,\n",
    "\ty=y_test)\n",
    "\n",
    "print('Test loss:', score[0])\n",
    "print('Test accuracy:', score[1])"
   ]
  },
  {
   "cell_type": "markdown",
   "metadata": {},
   "source": [
    "**************** Save the model "
   ]
  },
  {
   "cell_type": "code",
   "execution_count": 135,
   "metadata": {
    "scrolled": true
   },
   "outputs": [
    {
     "data": {
      "text/plain": [
       "[<tf.Variable 'conv2d_12_3/kernel:0' shape=(5, 5, 1, 24) dtype=float32_ref>,\n",
       " <tf.Variable 'conv2d_12_3/bias:0' shape=(24,) dtype=float32_ref>,\n",
       " <tf.Variable 'conv2d_13_3/kernel:0' shape=(5, 5, 24, 48) dtype=float32_ref>,\n",
       " <tf.Variable 'conv2d_13_3/bias:0' shape=(48,) dtype=float32_ref>,\n",
       " <tf.Variable 'conv2d_14_3/kernel:0' shape=(5, 5, 48, 48) dtype=float32_ref>,\n",
       " <tf.Variable 'conv2d_14_3/bias:0' shape=(48,) dtype=float32_ref>,\n",
       " <tf.Variable 'dense_7_3/kernel:0' shape=(2400, 64) dtype=float32_ref>,\n",
       " <tf.Variable 'dense_7_3/bias:0' shape=(64,) dtype=float32_ref>,\n",
       " <tf.Variable 'dense_8_3/kernel:0' shape=(64, 5) dtype=float32_ref>,\n",
       " <tf.Variable 'dense_8_3/bias:0' shape=(5,) dtype=float32_ref>]"
      ]
     },
     "execution_count": 135,
     "metadata": {},
     "output_type": "execute_result"
    }
   ],
   "source": [
    "# save the model to disk\n",
    "filename = 'trained_model.sav'\n",
    "pickle.dump(model, open(filename, 'wb'))\n",
    "\n",
    "# load the model \n",
    "load_model =pickle.load(open(filename, 'rb'))\n",
    "\n",
    "load_model.weights"
   ]
  },
  {
   "cell_type": "code",
   "execution_count": 136,
   "metadata": {
    "scrolled": true
   },
   "outputs": [
    {
     "name": "stdout",
     "output_type": "stream",
     "text": [
      "328/328 [==============================] - 1s 3ms/step\n",
      "Test loss: 0.6186323718326848\n",
      "Test accuracy: 0.7591463414634146\n"
     ]
    }
   ],
   "source": [
    "score = load_model.evaluate(x=X_test,\n",
    "                       y=y_test)\n",
    "print('Test loss:', score[0])\n",
    "print('Test accuracy:', score[1])"
   ]
  },
  {
   "cell_type": "code",
   "execution_count": 137,
   "metadata": {},
   "outputs": [],
   "source": [
    "# make a predict \n",
    "y_load_predict=load_model.predict(X_test)\n"
   ]
  },
  {
   "cell_type": "code",
   "execution_count": 163,
   "metadata": {},
   "outputs": [
    {
     "data": {
      "text/plain": [
       "(328, 5)"
      ]
     },
     "execution_count": 163,
     "metadata": {},
     "output_type": "execute_result"
    }
   ],
   "source": [
    "y_load_predict.shape"
   ]
  },
  {
   "cell_type": "code",
   "execution_count": 186,
   "metadata": {},
   "outputs": [],
   "source": [
    "# find out the result\n",
    "encoderX=[]\n",
    "for ID, Class in enumerate(df['classes'].unique()):\n",
    "    encoderX.append([Class, ID])\n",
    "with open(\"encoderX.txt\", \"wb\") as fp:   #Pickling\n",
    "    pickle.dump(encoderX, fp)\n",
    "    \n",
    "y_code = y_load_predict.argmax(axis=1)\n",
    "for code in y_code:\n",
    "    y_label.append(encoderX[code])"
   ]
  },
  {
   "cell_type": "code",
   "execution_count": 181,
   "metadata": {},
   "outputs": [
    {
     "data": {
      "text/plain": [
       "['Drinking',\n",
       " 1,\n",
       " ['Shaking', 4],\n",
       " ['Cheers', 0],\n",
       " ['Drinking', 1],\n",
       " ['Cheers', 0],\n",
       " ['Shaking', 4],\n",
       " ['Opening _ Closing', 2],\n",
       " ['Cheers', 0],\n",
       " ['Shaking', 4],\n",
       " ['Opening _ Closing', 2],\n",
       " ['Opening _ Closing', 2],\n",
       " ['Pouring', 3],\n",
       " ['Pouring', 3],\n",
       " ['Shaking', 4],\n",
       " ['Shaking', 4],\n",
       " ['Opening _ Closing', 2],\n",
       " ['Shaking', 4],\n",
       " ['Drinking', 1],\n",
       " ['Drinking', 1],\n",
       " ['Opening _ Closing', 2],\n",
       " ['Cheers', 0],\n",
       " ['Shaking', 4],\n",
       " ['Shaking', 4],\n",
       " ['Opening _ Closing', 2],\n",
       " ['Opening _ Closing', 2],\n",
       " ['Opening _ Closing', 2],\n",
       " ['Shaking', 4],\n",
       " ['Opening _ Closing', 2],\n",
       " ['Shaking', 4],\n",
       " ['Pouring', 3],\n",
       " ['Shaking', 4],\n",
       " ['Pouring', 3],\n",
       " ['Shaking', 4],\n",
       " ['Shaking', 4],\n",
       " ['Shaking', 4],\n",
       " ['Opening _ Closing', 2],\n",
       " ['Opening _ Closing', 2],\n",
       " ['Opening _ Closing', 2],\n",
       " ['Opening _ Closing', 2],\n",
       " ['Shaking', 4],\n",
       " ['Shaking', 4],\n",
       " ['Drinking', 1],\n",
       " ['Drinking', 1],\n",
       " ['Opening _ Closing', 2],\n",
       " ['Shaking', 4],\n",
       " ['Opening _ Closing', 2],\n",
       " ['Cheers', 0],\n",
       " ['Pouring', 3],\n",
       " ['Cheers', 0],\n",
       " ['Drinking', 1],\n",
       " ['Opening _ Closing', 2],\n",
       " ['Opening _ Closing', 2],\n",
       " ['Cheers', 0],\n",
       " ['Shaking', 4],\n",
       " ['Shaking', 4],\n",
       " ['Pouring', 3],\n",
       " ['Pouring', 3],\n",
       " ['Pouring', 3],\n",
       " ['Pouring', 3],\n",
       " ['Cheers', 0],\n",
       " ['Opening _ Closing', 2],\n",
       " ['Cheers', 0],\n",
       " ['Opening _ Closing', 2],\n",
       " ['Pouring', 3],\n",
       " ['Shaking', 4],\n",
       " ['Shaking', 4],\n",
       " ['Drinking', 1],\n",
       " ['Opening _ Closing', 2],\n",
       " ['Opening _ Closing', 2],\n",
       " ['Shaking', 4],\n",
       " ['Pouring', 3],\n",
       " ['Cheers', 0],\n",
       " ['Cheers', 0],\n",
       " ['Opening _ Closing', 2],\n",
       " ['Pouring', 3],\n",
       " ['Cheers', 0],\n",
       " ['Opening _ Closing', 2],\n",
       " ['Cheers', 0],\n",
       " ['Opening _ Closing', 2],\n",
       " ['Shaking', 4],\n",
       " ['Cheers', 0],\n",
       " ['Opening _ Closing', 2],\n",
       " ['Cheers', 0],\n",
       " ['Opening _ Closing', 2],\n",
       " ['Pouring', 3],\n",
       " ['Pouring', 3],\n",
       " ['Drinking', 1],\n",
       " ['Shaking', 4],\n",
       " ['Opening _ Closing', 2],\n",
       " ['Cheers', 0],\n",
       " ['Shaking', 4],\n",
       " ['Pouring', 3],\n",
       " ['Opening _ Closing', 2],\n",
       " ['Drinking', 1],\n",
       " ['Cheers', 0],\n",
       " ['Opening _ Closing', 2],\n",
       " ['Shaking', 4],\n",
       " ['Drinking', 1],\n",
       " ['Opening _ Closing', 2],\n",
       " ['Opening _ Closing', 2],\n",
       " ['Opening _ Closing', 2],\n",
       " ['Shaking', 4],\n",
       " ['Cheers', 0],\n",
       " ['Shaking', 4],\n",
       " ['Cheers', 0],\n",
       " ['Drinking', 1],\n",
       " ['Cheers', 0],\n",
       " ['Pouring', 3],\n",
       " ['Opening _ Closing', 2],\n",
       " ['Drinking', 1],\n",
       " ['Drinking', 1],\n",
       " ['Opening _ Closing', 2],\n",
       " ['Shaking', 4],\n",
       " ['Shaking', 4],\n",
       " ['Shaking', 4],\n",
       " ['Drinking', 1],\n",
       " ['Pouring', 3],\n",
       " ['Pouring', 3],\n",
       " ['Shaking', 4],\n",
       " ['Pouring', 3],\n",
       " ['Pouring', 3],\n",
       " ['Opening _ Closing', 2],\n",
       " ['Opening _ Closing', 2],\n",
       " ['Shaking', 4],\n",
       " ['Shaking', 4],\n",
       " ['Shaking', 4],\n",
       " ['Shaking', 4],\n",
       " ['Shaking', 4],\n",
       " ['Shaking', 4],\n",
       " ['Pouring', 3],\n",
       " ['Opening _ Closing', 2],\n",
       " ['Pouring', 3],\n",
       " ['Shaking', 4],\n",
       " ['Opening _ Closing', 2],\n",
       " ['Opening _ Closing', 2],\n",
       " ['Drinking', 1],\n",
       " ['Opening _ Closing', 2],\n",
       " ['Shaking', 4],\n",
       " ['Pouring', 3],\n",
       " ['Opening _ Closing', 2],\n",
       " ['Shaking', 4],\n",
       " ['Opening _ Closing', 2],\n",
       " ['Pouring', 3],\n",
       " ['Pouring', 3],\n",
       " ['Drinking', 1],\n",
       " ['Cheers', 0],\n",
       " ['Shaking', 4],\n",
       " ['Shaking', 4],\n",
       " ['Pouring', 3],\n",
       " ['Pouring', 3],\n",
       " ['Shaking', 4],\n",
       " ['Shaking', 4],\n",
       " ['Drinking', 1],\n",
       " ['Pouring', 3],\n",
       " ['Opening _ Closing', 2],\n",
       " ['Opening _ Closing', 2],\n",
       " ['Opening _ Closing', 2],\n",
       " ['Drinking', 1],\n",
       " ['Opening _ Closing', 2],\n",
       " ['Pouring', 3],\n",
       " ['Drinking', 1],\n",
       " ['Pouring', 3],\n",
       " ['Shaking', 4],\n",
       " ['Opening _ Closing', 2],\n",
       " ['Pouring', 3],\n",
       " ['Cheers', 0],\n",
       " ['Cheers', 0],\n",
       " ['Pouring', 3],\n",
       " ['Shaking', 4],\n",
       " ['Shaking', 4],\n",
       " ['Opening _ Closing', 2],\n",
       " ['Drinking', 1],\n",
       " ['Shaking', 4],\n",
       " ['Cheers', 0],\n",
       " ['Drinking', 1],\n",
       " ['Pouring', 3],\n",
       " ['Cheers', 0],\n",
       " ['Opening _ Closing', 2],\n",
       " ['Pouring', 3],\n",
       " ['Shaking', 4],\n",
       " ['Cheers', 0],\n",
       " ['Opening _ Closing', 2],\n",
       " ['Pouring', 3],\n",
       " ['Shaking', 4],\n",
       " ['Drinking', 1],\n",
       " ['Opening _ Closing', 2],\n",
       " ['Opening _ Closing', 2],\n",
       " ['Drinking', 1],\n",
       " ['Drinking', 1],\n",
       " ['Shaking', 4],\n",
       " ['Opening _ Closing', 2],\n",
       " ['Drinking', 1],\n",
       " ['Cheers', 0],\n",
       " ['Opening _ Closing', 2],\n",
       " ['Pouring', 3],\n",
       " ['Opening _ Closing', 2],\n",
       " ['Drinking', 1],\n",
       " ['Opening _ Closing', 2],\n",
       " ['Pouring', 3],\n",
       " ['Pouring', 3],\n",
       " ['Shaking', 4],\n",
       " ['Opening _ Closing', 2],\n",
       " ['Opening _ Closing', 2],\n",
       " ['Opening _ Closing', 2],\n",
       " ['Opening _ Closing', 2],\n",
       " ['Cheers', 0],\n",
       " ['Opening _ Closing', 2],\n",
       " ['Shaking', 4],\n",
       " ['Cheers', 0],\n",
       " ['Cheers', 0],\n",
       " ['Shaking', 4],\n",
       " ['Shaking', 4],\n",
       " ['Shaking', 4],\n",
       " ['Shaking', 4],\n",
       " ['Shaking', 4],\n",
       " ['Drinking', 1],\n",
       " ['Pouring', 3],\n",
       " ['Shaking', 4],\n",
       " ['Opening _ Closing', 2],\n",
       " ['Pouring', 3],\n",
       " ['Shaking', 4],\n",
       " ['Opening _ Closing', 2],\n",
       " ['Drinking', 1],\n",
       " ['Opening _ Closing', 2],\n",
       " ['Opening _ Closing', 2],\n",
       " ['Opening _ Closing', 2],\n",
       " ['Pouring', 3],\n",
       " ['Drinking', 1],\n",
       " ['Shaking', 4],\n",
       " ['Pouring', 3],\n",
       " ['Cheers', 0],\n",
       " ['Drinking', 1],\n",
       " ['Cheers', 0],\n",
       " ['Shaking', 4],\n",
       " ['Opening _ Closing', 2],\n",
       " ['Opening _ Closing', 2],\n",
       " ['Shaking', 4],\n",
       " ['Opening _ Closing', 2],\n",
       " ['Opening _ Closing', 2],\n",
       " ['Opening _ Closing', 2],\n",
       " ['Opening _ Closing', 2],\n",
       " ['Pouring', 3],\n",
       " ['Drinking', 1],\n",
       " ['Shaking', 4],\n",
       " ['Drinking', 1],\n",
       " ['Opening _ Closing', 2],\n",
       " ['Shaking', 4],\n",
       " ['Pouring', 3],\n",
       " ['Cheers', 0],\n",
       " ['Opening _ Closing', 2],\n",
       " ['Opening _ Closing', 2],\n",
       " ['Drinking', 1],\n",
       " ['Shaking', 4],\n",
       " ['Opening _ Closing', 2],\n",
       " ['Drinking', 1],\n",
       " ['Opening _ Closing', 2],\n",
       " ['Shaking', 4],\n",
       " ['Opening _ Closing', 2],\n",
       " ['Shaking', 4],\n",
       " ['Opening _ Closing', 2],\n",
       " ['Shaking', 4],\n",
       " ['Shaking', 4],\n",
       " ['Shaking', 4],\n",
       " ['Opening _ Closing', 2],\n",
       " ['Drinking', 1],\n",
       " ['Drinking', 1],\n",
       " ['Pouring', 3],\n",
       " ['Shaking', 4],\n",
       " ['Opening _ Closing', 2],\n",
       " ['Shaking', 4],\n",
       " ['Pouring', 3],\n",
       " ['Drinking', 1],\n",
       " ['Shaking', 4],\n",
       " ['Opening _ Closing', 2],\n",
       " ['Opening _ Closing', 2],\n",
       " ['Cheers', 0],\n",
       " ['Opening _ Closing', 2],\n",
       " ['Shaking', 4],\n",
       " ['Shaking', 4],\n",
       " ['Opening _ Closing', 2],\n",
       " ['Shaking', 4],\n",
       " ['Shaking', 4],\n",
       " ['Opening _ Closing', 2],\n",
       " ['Pouring', 3],\n",
       " ['Shaking', 4],\n",
       " ['Pouring', 3],\n",
       " ['Drinking', 1],\n",
       " ['Cheers', 0],\n",
       " ['Shaking', 4],\n",
       " ['Shaking', 4],\n",
       " ['Opening _ Closing', 2],\n",
       " ['Drinking', 1],\n",
       " ['Drinking', 1],\n",
       " ['Cheers', 0],\n",
       " ['Drinking', 1],\n",
       " ['Drinking', 1],\n",
       " ['Shaking', 4],\n",
       " ['Opening _ Closing', 2],\n",
       " ['Shaking', 4],\n",
       " ['Shaking', 4],\n",
       " ['Opening _ Closing', 2],\n",
       " ['Pouring', 3],\n",
       " ['Opening _ Closing', 2],\n",
       " ['Opening _ Closing', 2],\n",
       " ['Shaking', 4],\n",
       " ['Cheers', 0],\n",
       " ['Pouring', 3],\n",
       " ['Cheers', 0],\n",
       " ['Shaking', 4],\n",
       " ['Shaking', 4],\n",
       " ['Shaking', 4],\n",
       " ['Opening _ Closing', 2],\n",
       " ['Shaking', 4],\n",
       " ['Pouring', 3],\n",
       " ['Pouring', 3],\n",
       " ['Opening _ Closing', 2],\n",
       " ['Shaking', 4],\n",
       " ['Opening _ Closing', 2],\n",
       " ['Shaking', 4],\n",
       " ['Opening _ Closing', 2],\n",
       " ['Pouring', 3],\n",
       " ['Opening _ Closing', 2],\n",
       " ['Shaking', 4],\n",
       " ['Shaking', 4],\n",
       " ['Drinking', 1],\n",
       " ['Opening _ Closing', 2],\n",
       " ['Opening _ Closing', 2],\n",
       " ['Pouring', 3],\n",
       " ['Drinking', 1]]"
      ]
     },
     "execution_count": 181,
     "metadata": {},
     "output_type": "execute_result"
    }
   ],
   "source": [
    "y_label"
   ]
  },
  {
   "cell_type": "markdown",
   "metadata": {},
   "source": [
    "#read the sound file and make predict"
   ]
  },
  {
   "cell_type": "markdown",
   "metadata": {},
   "source": [
    "#Example of a AC spectrogram\n",
    "y, sr = librosa.load('Datasets/Opening _ Closing/1–3 Gloucester Road 13.m4a', duration=2.97)\n",
    "ps = librosa.feature.melspectrogram(y=y, sr=sr)\n"
   ]
  },
  {
   "cell_type": "code",
   "execution_count": null,
   "metadata": {},
   "outputs": [],
   "source": []
  }
 ],
 "metadata": {
  "kernelspec": {
   "display_name": "Python 3",
   "language": "python",
   "name": "python3"
  },
  "language_info": {
   "codemirror_mode": {
    "name": "ipython",
    "version": 3
   },
   "file_extension": ".py",
   "mimetype": "text/x-python",
   "name": "python",
   "nbconvert_exporter": "python",
   "pygments_lexer": "ipython3",
   "version": "3.7.4"
  }
 },
 "nbformat": 4,
 "nbformat_minor": 2
}
