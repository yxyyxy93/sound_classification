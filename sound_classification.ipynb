{
 "cells": [
  {
   "cell_type": "code",
   "execution_count": 1,
   "metadata": {},
   "outputs": [
    {
     "name": "stderr",
     "output_type": "stream",
     "text": [
      "Using TensorFlow backend.\n"
     ]
    }
   ],
   "source": [
    "import keras\n",
    "from keras.layers import Activation, Dense, Dropout, Conv2D, \\\n",
    "                         Flatten, MaxPooling2D\n",
    "from keras.models import Sequential\n",
    "import librosa\n",
    "import librosa.display\n",
    "import numpy as np\n",
    "import pandas as pd\n",
    "import random\n",
    "import os\n",
    "\n",
    "import warnings\n",
    "\n",
    "import pickle\n",
    "\n",
    "warnings.filterwarnings('ignore')"
   ]
  },
  {
   "cell_type": "code",
   "execution_count": 2,
   "metadata": {},
   "outputs": [],
   "source": [
    "# creat the dataframe \n",
    "\n",
    "names = []\n",
    "classes = []\n",
    "classID = []\n",
    "\n",
    "for ID, filename in enumerate(os.listdir('Datasets')):\n",
    "    if not filename.startswith('.'):\n",
    "        for soundname in os.listdir('Datasets'+'/' + filename):\n",
    "            if soundname.endswith(\".wav\") or soundname.endswith(\".mps\") or soundname.endswith(\".m4a\"): \n",
    "                names.append(soundname)\n",
    "                classes.append(filename)\n",
    "                classID.append(ID-1)\n",
    "            else:\n",
    "                continue\n",
    "        \n",
    "#names.append()\n",
    "\n",
    "data = {'file_name':  names,\n",
    "        'classes': classes,\n",
    "        'classID': classID\n",
    "        }\n",
    "\n",
    "df = pd.DataFrame(data, columns = ['file_name', 'classes', 'classID'])"
   ]
  },
  {
   "cell_type": "code",
   "execution_count": 3,
   "metadata": {},
   "outputs": [
    {
     "data": {
      "text/html": [
       "<div>\n",
       "<style scoped>\n",
       "    .dataframe tbody tr th:only-of-type {\n",
       "        vertical-align: middle;\n",
       "    }\n",
       "\n",
       "    .dataframe tbody tr th {\n",
       "        vertical-align: top;\n",
       "    }\n",
       "\n",
       "    .dataframe thead th {\n",
       "        text-align: right;\n",
       "    }\n",
       "</style>\n",
       "<table border=\"1\" class=\"dataframe\">\n",
       "  <thead>\n",
       "    <tr style=\"text-align: right;\">\n",
       "      <th></th>\n",
       "      <th>file_name</th>\n",
       "      <th>classes</th>\n",
       "      <th>classID</th>\n",
       "    </tr>\n",
       "  </thead>\n",
       "  <tbody>\n",
       "    <tr>\n",
       "      <th>0</th>\n",
       "      <td>1–3 Gloucester Road 121.m4a</td>\n",
       "      <td>Cheers</td>\n",
       "      <td>0</td>\n",
       "    </tr>\n",
       "    <tr>\n",
       "      <th>1</th>\n",
       "      <td>1–3 Gloucester Road 122.m4a</td>\n",
       "      <td>Cheers</td>\n",
       "      <td>0</td>\n",
       "    </tr>\n",
       "    <tr>\n",
       "      <th>2</th>\n",
       "      <td>1–3 Gloucester Road 123.m4a</td>\n",
       "      <td>Cheers</td>\n",
       "      <td>0</td>\n",
       "    </tr>\n",
       "    <tr>\n",
       "      <th>3</th>\n",
       "      <td>1–3 Gloucester Road 124.m4a</td>\n",
       "      <td>Cheers</td>\n",
       "      <td>0</td>\n",
       "    </tr>\n",
       "    <tr>\n",
       "      <th>4</th>\n",
       "      <td>1–3 Gloucester Road 125.m4a</td>\n",
       "      <td>Cheers</td>\n",
       "      <td>0</td>\n",
       "    </tr>\n",
       "  </tbody>\n",
       "</table>\n",
       "</div>"
      ],
      "text/plain": [
       "                     file_name classes  classID\n",
       "0  1–3 Gloucester Road 121.m4a  Cheers        0\n",
       "1  1–3 Gloucester Road 122.m4a  Cheers        0\n",
       "2  1–3 Gloucester Road 123.m4a  Cheers        0\n",
       "3  1–3 Gloucester Road 124.m4a  Cheers        0\n",
       "4  1–3 Gloucester Road 125.m4a  Cheers        0"
      ]
     },
     "execution_count": 3,
     "metadata": {},
     "output_type": "execute_result"
    }
   ],
   "source": [
    "df.head()"
   ]
  },
  {
   "cell_type": "code",
   "execution_count": 4,
   "metadata": {},
   "outputs": [
    {
     "data": {
      "text/plain": [
       "(128, 128)"
      ]
     },
     "execution_count": 4,
     "metadata": {},
     "output_type": "execute_result"
    }
   ],
   "source": [
    "# Example of a Siren spectrogram\n",
    "y, sr = librosa.load('Datasets/Drinking/20213__modcam__drinking-water.wav', duration=2.97)\n",
    "ps = librosa.feature.melspectrogram(y=y, sr=sr)\n",
    "ps.shape"
   ]
  },
  {
   "cell_type": "code",
   "execution_count": 5,
   "metadata": {
    "scrolled": true
   },
   "outputs": [
    {
     "data": {
      "text/plain": [
       "<matplotlib.axes._subplots.AxesSubplot at 0x2394d52c198>"
      ]
     },
     "execution_count": 5,
     "metadata": {},
     "output_type": "execute_result"
    }
   ],
   "source": [
    "librosa.display.specshow(ps, y_axis='mel', x_axis='time')"
   ]
  },
  {
   "cell_type": "code",
   "execution_count": 6,
   "metadata": {},
   "outputs": [
    {
     "data": {
      "text/plain": [
       "<matplotlib.axes._subplots.AxesSubplot at 0x2394d720860>"
      ]
     },
     "execution_count": 6,
     "metadata": {},
     "output_type": "execute_result"
    },
    {
     "data": {
      "image/png": "[encoded data removed]",
      "text/plain": [
       "<Figure size 432x288 with 1 Axes>"
      ]
     },
     "metadata": {
      "needs_background": "light"
     },
     "output_type": "display_data"
    }
   ],
   "source": [
    "librosa.display.specshow(ps, y_axis='mel', x_axis='time')"
   ]
  },
  {
   "cell_type": "code",
   "execution_count": 7,
   "metadata": {},
   "outputs": [
    {
     "data": {
      "text/plain": [
       "(128, 128)"
      ]
     },
     "execution_count": 7,
     "metadata": {},
     "output_type": "execute_result"
    }
   ],
   "source": [
    "# Example of a children playing spectrogram\n",
    "y, sr = librosa.load('Datasets/Pouring/79188__nathan-lomeli__gurgling-drinking-fountain.wav', duration=2.97)\n",
    "ps = librosa.feature.melspectrogram(y=y, sr=sr)\n",
    "ps.shape"
   ]
  },
  {
   "cell_type": "code",
   "execution_count": 8,
   "metadata": {},
   "outputs": [
    {
     "data": {
      "text/plain": [
       "<matplotlib.axes._subplots.AxesSubplot at 0x2394d79b518>"
      ]
     },
     "execution_count": 8,
     "metadata": {},
     "output_type": "execute_result"
    },
    {
     "data": {
      "image/png": "[encoded data removed]",
      "text/plain": [
       "<Figure size 432x288 with 1 Axes>"
      ]
     },
     "metadata": {
      "needs_background": "light"
     },
     "output_type": "display_data"
    }
   ],
   "source": [
    "librosa.display.specshow(ps, y_axis='mel', x_axis='time')"
   ]
  },
  {
   "cell_type": "code",
   "execution_count": 9,
   "metadata": {},
   "outputs": [
    {
     "data": {
      "text/plain": [
       "(128, 128)"
      ]
     },
     "execution_count": 9,
     "metadata": {},
     "output_type": "execute_result"
    }
   ],
   "source": [
    "# Example of a drilling spectrogram\n",
    "y, sr = librosa.load('Datasets/Shaking/1–3 Gloucester Road 69.m4a', duration=2.97)\n",
    "ps = librosa.feature.melspectrogram(y=y, sr=sr)\n",
    "ps.shape"
   ]
  },
  {
   "cell_type": "code",
   "execution_count": 10,
   "metadata": {},
   "outputs": [
    {
     "data": {
      "text/plain": [
       "<matplotlib.axes._subplots.AxesSubplot at 0x2394d804ac8>"
      ]
     },
     "execution_count": 10,
     "metadata": {},
     "output_type": "execute_result"
    },
    {
     "data": {
      "image/png": "[encoded data removed]",
      "text/plain": [
       "<Figure size 432x288 with 1 Axes>"
      ]
     },
     "metadata": {
      "needs_background": "light"
     },
     "output_type": "display_data"
    }
   ],
   "source": [
    "librosa.display.specshow(ps, y_axis='mel', x_axis='time')"
   ]
  },
  {
   "cell_type": "markdown",
   "metadata": {},
   "source": [
    "Iterate over all samples in _valid_.\n",
    "For every sample, construct the (128,128) spectrogram"
   ]
  },
  {
   "cell_type": "code",
   "execution_count": 11,
   "metadata": {},
   "outputs": [],
   "source": [
    "df['path'] = 'Datasets/' + df['classes'] + '/' + df['file_name']"
   ]
  },
  {
   "cell_type": "code",
   "execution_count": 12,
   "metadata": {},
   "outputs": [
    {
     "name": "stdout",
     "output_type": "stream",
     "text": [
      "0 / 637\n",
      "100 / 637\n",
      "200 / 637\n",
      "300 / 637\n",
      "400 / 637\n",
      "500 / 637\n",
      "600 / 637\n"
     ]
    }
   ],
   "source": [
    "D = [] # Dataset\n",
    "\n",
    "for count, row in enumerate(df.itertuples()):\n",
    "    y, sr = librosa.load(row.path, duration=2.97)  \n",
    "    ps = librosa.feature.melspectrogram(y=y, sr=sr)\n",
    "    if ps.shape != (128, 128):\n",
    "        continue\n",
    "    D.append( (ps, row.classID) )\n",
    "    if count%100==0:\n",
    "        print(count, '/', len(df))"
   ]
  },
  {
   "cell_type": "code",
   "execution_count": 13,
   "metadata": {},
   "outputs": [
    {
     "name": "stdout",
     "output_type": "stream",
     "text": [
      "Number of samples:  586\n"
     ]
    }
   ],
   "source": [
    "print(\"Number of samples: \", len(D))"
   ]
  },
  {
   "cell_type": "code",
   "execution_count": 18,
   "metadata": {},
   "outputs": [],
   "source": [
    "dataset = D\n",
    "random.shuffle(dataset)\n",
    "\n",
    "train = dataset[:500]\n",
    "test = dataset[500:]\n",
    "\n",
    "X_train, y_train = zip(*train)\n",
    "X_test, y_test = zip(*test)\n",
    "\n",
    "# Reshape for CNN input\n",
    "X_train = np.array([x.reshape( (128, 128, 1) ) for x in X_train])\n",
    "X_test = np.array([x.reshape( (128, 128, 1) ) for x in X_test])\n",
    "\n",
    "# One-Hot encoding for classes\n",
    "y_train = np.array(keras.utils.to_categorical(y_train, 5))\n",
    "y_test = np.array(keras.utils.to_categorical(y_test, 5))"
   ]
  },
  {
   "cell_type": "code",
   "execution_count": 19,
   "metadata": {},
   "outputs": [
    {
     "name": "stdout",
     "output_type": "stream",
     "text": [
      "WARNING:tensorflow:From C:\\Users\\xiayang\\AppData\\Local\\Continuum\\anaconda3\\lib\\site-packages\\keras\\backend\\tensorflow_backend.py:74: The name tf.get_default_graph is deprecated. Please use tf.compat.v1.get_default_graph instead.\n",
      "\n",
      "WARNING:tensorflow:From C:\\Users\\xiayang\\AppData\\Local\\Continuum\\anaconda3\\lib\\site-packages\\keras\\backend\\tensorflow_backend.py:517: The name tf.placeholder is deprecated. Please use tf.compat.v1.placeholder instead.\n",
      "\n",
      "WARNING:tensorflow:From C:\\Users\\xiayang\\AppData\\Local\\Continuum\\anaconda3\\lib\\site-packages\\keras\\backend\\tensorflow_backend.py:4138: The name tf.random_uniform is deprecated. Please use tf.random.uniform instead.\n",
      "\n",
      "WARNING:tensorflow:From C:\\Users\\xiayang\\AppData\\Local\\Continuum\\anaconda3\\lib\\site-packages\\keras\\backend\\tensorflow_backend.py:3976: The name tf.nn.max_pool is deprecated. Please use tf.nn.max_pool2d instead.\n",
      "\n",
      "WARNING:tensorflow:From C:\\Users\\xiayang\\AppData\\Local\\Continuum\\anaconda3\\lib\\site-packages\\keras\\backend\\tensorflow_backend.py:133: The name tf.placeholder_with_default is deprecated. Please use tf.compat.v1.placeholder_with_default instead.\n",
      "\n",
      "WARNING:tensorflow:From C:\\Users\\xiayang\\AppData\\Local\\Continuum\\anaconda3\\lib\\site-packages\\keras\\backend\\tensorflow_backend.py:3445: calling dropout (from tensorflow.python.ops.nn_ops) with keep_prob is deprecated and will be removed in a future version.\n",
      "Instructions for updating:\n",
      "Please use `rate` instead of `keep_prob`. Rate should be set to `rate = 1 - keep_prob`.\n"
     ]
    }
   ],
   "source": [
    "model = Sequential()\n",
    "input_shape=(128, 128, 1)\n",
    "\n",
    "model.add(Conv2D(24, (5, 5), strides=(1, 1), input_shape=input_shape))\n",
    "model.add(MaxPooling2D((4, 2), strides=(4, 2)))\n",
    "model.add(Activation('relu'))\n",
    "\n",
    "model.add(Conv2D(48, (5, 5), padding=\"valid\"))\n",
    "model.add(MaxPooling2D((4, 2), strides=(4, 2)))\n",
    "model.add(Activation('relu'))\n",
    "\n",
    "model.add(Conv2D(48, (5, 5), padding=\"valid\"))\n",
    "model.add(Activation('relu'))\n",
    "\n",
    "model.add(Flatten())\n",
    "model.add(Dropout(rate=0.5))\n",
    "\n",
    "model.add(Dense(64))\n",
    "model.add(Activation('relu'))\n",
    "model.add(Dropout(rate=0.5))\n",
    "\n",
    "model.add(Dense(5))\n",
    "model.add(Activation('softmax'))"
   ]
  },
  {
   "cell_type": "code",
   "execution_count": 20,
   "metadata": {},
   "outputs": [
    {
     "name": "stdout",
     "output_type": "stream",
     "text": [
      "WARNING:tensorflow:From C:\\Users\\xiayang\\AppData\\Local\\Continuum\\anaconda3\\lib\\site-packages\\keras\\optimizers.py:790: The name tf.train.Optimizer is deprecated. Please use tf.compat.v1.train.Optimizer instead.\n",
      "\n",
      "WARNING:tensorflow:From C:\\Users\\xiayang\\AppData\\Local\\Continuum\\anaconda3\\lib\\site-packages\\keras\\backend\\tensorflow_backend.py:3295: The name tf.log is deprecated. Please use tf.math.log instead.\n",
      "\n",
      "WARNING:tensorflow:From C:\\Users\\xiayang\\AppData\\Local\\Continuum\\anaconda3\\lib\\site-packages\\tensorflow_core\\python\\ops\\math_grad.py:1424: where (from tensorflow.python.ops.array_ops) is deprecated and will be removed in a future version.\n",
      "Instructions for updating:\n",
      "Use tf.where in 2.0, which has the same broadcast rule as np.where\n",
      "WARNING:tensorflow:From C:\\Users\\xiayang\\AppData\\Local\\Continuum\\anaconda3\\lib\\site-packages\\keras\\backend\\tensorflow_backend.py:986: The name tf.assign_add is deprecated. Please use tf.compat.v1.assign_add instead.\n",
      "\n",
      "WARNING:tensorflow:From C:\\Users\\xiayang\\AppData\\Local\\Continuum\\anaconda3\\lib\\site-packages\\keras\\backend\\tensorflow_backend.py:973: The name tf.assign is deprecated. Please use tf.compat.v1.assign instead.\n",
      "\n",
      "WARNING:tensorflow:From C:\\Users\\xiayang\\AppData\\Local\\Continuum\\anaconda3\\lib\\site-packages\\keras\\backend\\tensorflow_backend.py:2741: The name tf.Session is deprecated. Please use tf.compat.v1.Session instead.\n",
      "\n",
      "Train on 500 samples, validate on 86 samples\n",
      "Epoch 1/12\n",
      "WARNING:tensorflow:From C:\\Users\\xiayang\\AppData\\Local\\Continuum\\anaconda3\\lib\\site-packages\\keras\\backend\\tensorflow_backend.py:174: The name tf.get_default_session is deprecated. Please use tf.compat.v1.get_default_session instead.\n",
      "\n",
      "WARNING:tensorflow:From C:\\Users\\xiayang\\AppData\\Local\\Continuum\\anaconda3\\lib\\site-packages\\keras\\backend\\tensorflow_backend.py:181: The name tf.ConfigProto is deprecated. Please use tf.compat.v1.ConfigProto instead.\n",
      "\n",
      "WARNING:tensorflow:From C:\\Users\\xiayang\\AppData\\Local\\Continuum\\anaconda3\\lib\\site-packages\\keras\\backend\\tensorflow_backend.py:190: The name tf.global_variables is deprecated. Please use tf.compat.v1.global_variables instead.\n",
      "\n",
      "WARNING:tensorflow:From C:\\Users\\xiayang\\AppData\\Local\\Continuum\\anaconda3\\lib\\site-packages\\keras\\backend\\tensorflow_backend.py:199: The name tf.is_variable_initialized is deprecated. Please use tf.compat.v1.is_variable_initialized instead.\n",
      "\n",
      "WARNING:tensorflow:From C:\\Users\\xiayang\\AppData\\Local\\Continuum\\anaconda3\\lib\\site-packages\\keras\\backend\\tensorflow_backend.py:206: The name tf.variables_initializer is deprecated. Please use tf.compat.v1.variables_initializer instead.\n",
      "\n",
      "500/500 [==============================] - 4s 9ms/step - loss: 2.0307 - acc: 0.2420 - val_loss: 1.5242 - val_acc: 0.4535\n",
      "Epoch 2/12\n",
      "500/500 [==============================] - 4s 7ms/step - loss: 1.5221 - acc: 0.3500 - val_loss: 1.4636 - val_acc: 0.4535\n",
      "Epoch 3/12\n",
      "500/500 [==============================] - 3s 6ms/step - loss: 1.4105 - acc: 0.4120 - val_loss: 1.4120 - val_acc: 0.4651\n",
      "Epoch 4/12\n",
      "500/500 [==============================] - 3s 6ms/step - loss: 1.3761 - acc: 0.4180 - val_loss: 1.4300 - val_acc: 0.4767\n",
      "Epoch 5/12\n",
      "500/500 [==============================] - 3s 6ms/step - loss: 1.3331 - acc: 0.4400 - val_loss: 1.4535 - val_acc: 0.4651\n",
      "Epoch 6/12\n",
      "500/500 [==============================] - 3s 6ms/step - loss: 1.2536 - acc: 0.4580 - val_loss: 1.4992 - val_acc: 0.4767\n",
      "Epoch 7/12\n",
      "500/500 [==============================] - 3s 6ms/step - loss: 1.2167 - acc: 0.4740 - val_loss: 1.5638 - val_acc: 0.4884\n",
      "Epoch 8/12\n",
      "500/500 [==============================] - 3s 6ms/step - loss: 1.1907 - acc: 0.4560 - val_loss: 1.5925 - val_acc: 0.4767\n",
      "Epoch 9/12\n",
      "500/500 [==============================] - 3s 6ms/step - loss: 1.1594 - acc: 0.4500 - val_loss: 1.6115 - val_acc: 0.4767\n",
      "Epoch 10/12\n",
      "500/500 [==============================] - 3s 6ms/step - loss: 1.1251 - acc: 0.4840 - val_loss: 1.5898 - val_acc: 0.5233\n",
      "Epoch 11/12\n",
      "500/500 [==============================] - 3s 6ms/step - loss: 1.1165 - acc: 0.5200 - val_loss: 1.4990 - val_acc: 0.5349\n",
      "Epoch 12/12\n",
      "500/500 [==============================] - 3s 6ms/step - loss: 1.1221 - acc: 0.5400 - val_loss: 1.4710 - val_acc: 0.5000\n",
      "86/86 [==============================] - 0s 2ms/step\n",
      "Test loss: 1.4709721581880437\n",
      "Test accuracy: 0.4999999930692274\n"
     ]
    }
   ],
   "source": [
    "model.compile(optimizer=\"Adam\",\n",
    "              loss=\"categorical_crossentropy\",\n",
    "              metrics=['accuracy'])\n",
    "\n",
    "model.fit(x=X_train, \n",
    "          y=y_train,\n",
    "          epochs=12,\n",
    "          batch_size=128,\n",
    "          validation_data= (X_test, y_test))\n",
    "\n",
    "score = model.evaluate(x=X_test,\n",
    "                       y=y_test)\n",
    "\n",
    "print('Test loss:', score[0])\n",
    "print('Test accuracy:', score[1])"
   ]
  },
  {
   "cell_type": "markdown",
   "metadata": {},
   "source": [
    "## Data Augmentation\n",
    "\n",
    "### 1. Vary Time"
   ]
  },
  {
   "cell_type": "code",
   "execution_count": 85,
   "metadata": {
    "scrolled": true
   },
   "outputs": [
    {
     "name": "stdout",
     "output_type": "stream",
     "text": [
      "Directory  augmented/Cheers/speed_81  Created \n"
     ]
    }
   ],
   "source": [
    "y, sr = librosa.load('Datasets/Cheers/1–3 Gloucester Road 127.m4a', duration=2.97)\n",
    "y_changed = librosa.effects.time_stretch(y, rate=0.81)\n",
    "\n",
    "dirName = 'augmented/Cheers/speed_81'\n",
    "# Create target directory & all intermediate directories if don't exists\n",
    "try:\n",
    "    os.makedirs(dirName)    \n",
    "    print(\"Directory \" , dirName ,  \" Created \")\n",
    "except FileExistsError:\n",
    "    print(\"Directory \" , dirName ,  \" already exists\")  \n",
    "\n",
    "librosa.output.write_wav(dirName + '/' + '1–3 Gloucester Road 127.wav' ,y_changed, sr)"
   ]
  },
  {
   "cell_type": "code",
   "execution_count": 97,
   "metadata": {
    "scrolled": true
   },
   "outputs": [
    {
     "name": "stdout",
     "output_type": "stream",
     "text": [
      "0 / 637\n",
      "100 / 637\n",
      "200 / 637\n",
      "300 / 637\n",
      "400 / 637\n",
      "500 / 637\n",
      "600 / 637\n"
     ]
    }
   ],
   "source": [
    "rate = 1.07 # replace with 0.81 and execute again\n",
    "\n",
    "for count, row in enumerate(df.itertuples()):\n",
    "    y, sr = librosa.load(row.path)  \n",
    "    y_changed = librosa.effects.time_stretch(y, rate=rate)\n",
    "    dirName = 'augmented/' + str(row.classes) + '/speed_' + str(int(rate*100))\n",
    "    # Create target directory & all intermediate directories if don't exists\n",
    "    try:\n",
    "        os.makedirs(dirName)    \n",
    "    except FileExistsError:   \n",
    "        if count%100==0:\n",
    "            print(count, '/', len(df)) \n",
    "        # print(\"Directory \" , dirName ,  \" already exists\")  \n",
    "    librosa.output.write_wav(dirName + '/' + row.file_name ,y_changed, sr)\n"
   ]
  },
  {
   "cell_type": "markdown",
   "metadata": {},
   "source": [
    "### 2. Vary pitch"
   ]
  },
  {
   "cell_type": "code",
   "execution_count": 98,
   "metadata": {},
   "outputs": [
    {
     "name": "stdout",
     "output_type": "stream",
     "text": [
      "0 / 637\n",
      "100 / 637\n",
      "200 / 637\n",
      "300 / 637\n",
      "400 / 637\n",
      "500 / 637\n",
      "600 / 637\n"
     ]
    }
   ],
   "source": [
    "n_steps = 2 #-1, -2, 2, 1\n",
    "\n",
    "for count, row in enumerate(df.itertuples()):\n",
    "    y, sr = librosa.load(row.path)  \n",
    "    y_changed = librosa.effects.pitch_shift(y, sr, n_steps=n_steps)\n",
    "    dirName = 'augmented/' + str(row.classes) + '/ps1_' + str(int(n_steps))\n",
    "    # Create target directory & all intermediate directories if don't exists\n",
    "    try:\n",
    "        os.makedirs(dirName)    \n",
    "    except FileExistsError:  \n",
    "        if count%100==0:\n",
    "            print(count, '/', len(df)) \n",
    "        # print(\"Directory \" , dirName ,  \" already exists\")  \n",
    "    librosa.output.write_wav(dirName + '/' + row.file_name ,y_changed, sr)\n"
   ]
  },
  {
   "cell_type": "markdown",
   "metadata": {},
   "source": [
    "### 3. Change Pitch (PS2)"
   ]
  },
  {
   "cell_type": "code",
   "execution_count": 99,
   "metadata": {},
   "outputs": [
    {
     "name": "stdout",
     "output_type": "stream",
     "text": [
      "0 / 637\n",
      "100 / 637\n",
      "200 / 637\n",
      "300 / 637\n",
      "400 / 637\n",
      "500 / 637\n",
      "600 / 637\n"
     ]
    }
   ],
   "source": [
    "n_steps = 2.5 #-2.5, -3.5, 2.5, 3.5\n",
    "\n",
    "for count, row in enumerate(df.itertuples()):\n",
    "    y, sr = librosa.load(row.path)  \n",
    "    y_changed = librosa.effects.pitch_shift(y, sr, n_steps=n_steps)\n",
    "    dirName = 'augmented/' + str(row.classes) + '/ps2_' + str(int(10*n_steps))\n",
    "    # Create target directory & all intermediate directories if don't exists\n",
    "    try:\n",
    "        os.makedirs(dirName)    \n",
    "    except FileExistsError:\n",
    "        if count%100==0:\n",
    "            print(count, '/', len(df)) \n",
    "        # print(\"Directory \" , dirName ,  \" already exists\")  \n",
    "    librosa.output.write_wav(dirName + '/' + row.file_name ,y_changed, sr)\n",
    "    "
   ]
  },
  {
   "cell_type": "code",
   "execution_count": 14,
   "metadata": {},
   "outputs": [],
   "source": [
    "paths=[]\n",
    "names = []\n",
    "classes = []\n",
    "classID = []\n",
    "\n",
    "for ID, filename in enumerate(os.listdir('augmented')):\n",
    "    for classname in os.listdir('augmented'+'/' + filename):\n",
    "        for soundname in os.listdir('augmented'+'/' + filename + '/' + classname):\n",
    "            if soundname.endswith(\".wav\") or soundname.endswith(\".mps\") or soundname.endswith(\".m4a\"): \n",
    "                names.append(soundname)\n",
    "                classes.append(filename)\n",
    "                classID.append(ID)\n",
    "                paths.append('augmented' + '/' + filename + '/' + classname + '/' + soundname)\n",
    "            else:\n",
    "                continue\n",
    "                \n",
    "data_aug = {'file_name':  names,\n",
    "        'classes': classes,\n",
    "        'classID': classID,\n",
    "        'path': paths\n",
    "        }\n",
    "\n",
    "df_aug = pd.DataFrame(data_aug, columns = ['file_name', 'classes', 'classID', 'path'])\n",
    "df_all = df.append(df_aug)"
   ]
  },
  {
   "cell_type": "code",
   "execution_count": 15,
   "metadata": {},
   "outputs": [
    {
     "data": {
      "text/plain": [
       "586"
      ]
     },
     "execution_count": 15,
     "metadata": {},
     "output_type": "execute_result"
    }
   ],
   "source": [
    "len(D)"
   ]
  },
  {
   "cell_type": "code",
   "execution_count": 16,
   "metadata": {},
   "outputs": [
    {
     "name": "stdout",
     "output_type": "stream",
     "text": [
      "0 / 2549\n",
      "100 / 2549\n",
      "200 / 2549\n",
      "300 / 2549\n",
      "400 / 2549\n",
      "500 / 2549\n",
      "600 / 2549\n",
      "700 / 2549\n",
      "800 / 2549\n",
      "1000 / 2549\n",
      "1100 / 2549\n",
      "1200 / 2549\n",
      "1300 / 2549\n",
      "1400 / 2549\n",
      "1500 / 2549\n",
      "1600 / 2549\n",
      "1700 / 2549\n",
      "1800 / 2549\n",
      "1900 / 2549\n",
      "2000 / 2549\n",
      "2200 / 2549\n",
      "2300 / 2549\n",
      "2400 / 2549\n",
      "2500 / 2549\n"
     ]
    }
   ],
   "source": [
    "# D = [] # Dataset\n",
    "\n",
    "for count, row in enumerate(df_aug.itertuples()):\n",
    "    y, sr = librosa.load(row.path, duration=2.97)  \n",
    "    ps = librosa.feature.melspectrogram(y=y, sr=sr)\n",
    "    if ps.shape != (128, 128):\n",
    "        continue\n",
    "    D.append( (ps, row.classID) )\n",
    "    if count%100==0:\n",
    "        print(count, '/', len(df_aug))"
   ]
  },
  {
   "cell_type": "code",
   "execution_count": null,
   "metadata": {},
   "outputs": [],
   "source": [
    "The dataset consists of:\n",
    "- normal samples.\n",
    "- samples Pitch modulated 2.5 semitones higher.\n",
    "- samples Pitch modeulated 2 semitones higher.\n",
    "- samples Slowed down to 0.81.\n",
    "- samples speed up by 1.07\n",
    "\n",
    "Follow the same procedure for the normal data."
   ]
  },
  {
   "cell_type": "code",
   "execution_count": 17,
   "metadata": {},
   "outputs": [
    {
     "data": {
      "text/plain": [
       "2945"
      ]
     },
     "execution_count": 17,
     "metadata": {},
     "output_type": "execute_result"
    }
   ],
   "source": [
    "len(D)"
   ]
  },
  {
   "cell_type": "code",
   "execution_count": 22,
   "metadata": {},
   "outputs": [],
   "source": [
    "dataset = D\n",
    "random.shuffle(dataset)\n",
    "\n",
    "train = dataset[:2200]\n",
    "test = dataset[2200:]\n",
    "\n",
    "X_train, y_train = zip(*train)\n",
    "X_test, y_test = zip(*test)\n",
    "\n",
    "X_train = np.array([x.reshape( (128, 128, 1) ) for x in X_train])\n",
    "X_test = np.array([x.reshape( (128, 128, 1) ) for x in X_test])\n",
    "\n",
    "y_train = np.array(keras.utils.to_categorical(y_train, 5))\n",
    "y_test = np.array(keras.utils.to_categorical(y_test, 5))"
   ]
  },
  {
   "cell_type": "code",
   "execution_count": 26,
   "metadata": {},
   "outputs": [],
   "source": [
    "model = Sequential()\n",
    "input_shape=(128, 128, 1)\n",
    "\n",
    "model.add(Conv2D(24, (5, 5), strides=(1, 1), input_shape=input_shape))\n",
    "model.add(MaxPooling2D((4, 2), strides=(4, 2)))\n",
    "model.add(Activation('relu'))\n",
    "\n",
    "model.add(Conv2D(48, (5, 5), padding=\"valid\"))\n",
    "model.add(MaxPooling2D((4, 2), strides=(4, 2)))\n",
    "model.add(Activation('relu'))\n",
    "\n",
    "model.add(Conv2D(48, (5, 5), padding=\"valid\"))\n",
    "model.add(Activation('relu'))\n",
    "\n",
    "model.add(Flatten())\n",
    "model.add(Dropout(rate=0.5))\n",
    "\n",
    "model.add(Dense(64))\n",
    "model.add(Activation('relu'))\n",
    "model.add(Dropout(rate=0.5))\n",
    "\n",
    "model.add(Dense(5))\n",
    "model.add(Activation('softmax'))"
   ]
  },
  {
   "cell_type": "code",
   "execution_count": 27,
   "metadata": {},
   "outputs": [
    {
     "name": "stdout",
     "output_type": "stream",
     "text": [
      "Train on 2200 samples, validate on 745 samples\n",
      "Epoch 1/24\n",
      "2200/2200 [==============================] - 20s 9ms/step - loss: 1.4750 - acc: 0.3795 - val_loss: 1.3290 - val_acc: 0.4497\n",
      "Epoch 2/24\n",
      "2200/2200 [==============================] - 20s 9ms/step - loss: 1.2911 - acc: 0.4259 - val_loss: 1.2395 - val_acc: 0.4591\n",
      "Epoch 3/24\n",
      "2200/2200 [==============================] - 19s 9ms/step - loss: 1.1954 - acc: 0.4695 - val_loss: 1.1691 - val_acc: 0.5597\n",
      "Epoch 4/24\n",
      "2200/2200 [==============================] - 18s 8ms/step - loss: 1.1240 - acc: 0.5259 - val_loss: 1.1259 - val_acc: 0.5664\n",
      "Epoch 5/24\n",
      "2200/2200 [==============================] - 20s 9ms/step - loss: 1.0696 - acc: 0.5623 - val_loss: 1.0177 - val_acc: 0.6067\n",
      "Epoch 6/24\n",
      "2200/2200 [==============================] - 20s 9ms/step - loss: 0.9784 - acc: 0.6109 - val_loss: 0.9251 - val_acc: 0.6376\n",
      "Epoch 7/24\n",
      "2200/2200 [==============================] - 19s 8ms/step - loss: 0.9076 - acc: 0.6255 - val_loss: 0.8185 - val_acc: 0.7221\n",
      "Epoch 8/24\n",
      "2200/2200 [==============================] - 20s 9ms/step - loss: 0.8123 - acc: 0.6841 - val_loss: 0.7641 - val_acc: 0.7369\n",
      "Epoch 9/24\n",
      "2200/2200 [==============================] - 19s 9ms/step - loss: 0.7363 - acc: 0.7191 - val_loss: 0.7866 - val_acc: 0.7302\n",
      "Epoch 10/24\n",
      "2200/2200 [==============================] - 19s 9ms/step - loss: 0.6914 - acc: 0.7264 - val_loss: 0.6318 - val_acc: 0.7839\n",
      "Epoch 11/24\n",
      "2200/2200 [==============================] - 20s 9ms/step - loss: 0.5862 - acc: 0.7759 - val_loss: 0.5852 - val_acc: 0.8148\n",
      "Epoch 12/24\n",
      "2200/2200 [==============================] - 20s 9ms/step - loss: 0.5376 - acc: 0.8068 - val_loss: 0.5510 - val_acc: 0.8376\n",
      "Epoch 13/24\n",
      "2200/2200 [==============================] - 22s 10ms/step - loss: 0.4898 - acc: 0.8264 - val_loss: 0.5671 - val_acc: 0.8295\n",
      "Epoch 14/24\n",
      "2200/2200 [==============================] - 21s 10ms/step - loss: 0.5017 - acc: 0.8205 - val_loss: 0.5196 - val_acc: 0.8349\n",
      "Epoch 15/24\n",
      "2200/2200 [==============================] - 22s 10ms/step - loss: 0.4517 - acc: 0.8368 - val_loss: 0.5418 - val_acc: 0.8416\n",
      "Epoch 16/24\n",
      "2200/2200 [==============================] - 22s 10ms/step - loss: 0.4740 - acc: 0.8336 - val_loss: 0.4446 - val_acc: 0.8738\n",
      "Epoch 17/24\n",
      "2200/2200 [==============================] - 24s 11ms/step - loss: 0.4545 - acc: 0.8445 - val_loss: 0.5606 - val_acc: 0.8309\n",
      "Epoch 18/24\n",
      "2200/2200 [==============================] - 22s 10ms/step - loss: 0.4193 - acc: 0.8473 - val_loss: 0.4326 - val_acc: 0.8523\n",
      "Epoch 19/24\n",
      "2200/2200 [==============================] - 21s 10ms/step - loss: 0.4079 - acc: 0.8586 - val_loss: 0.4473 - val_acc: 0.8765\n",
      "Epoch 20/24\n",
      "2200/2200 [==============================] - 20s 9ms/step - loss: 0.3625 - acc: 0.8700 - val_loss: 0.3987 - val_acc: 0.8832\n",
      "Epoch 21/24\n",
      "2200/2200 [==============================] - 24s 11ms/step - loss: 0.3170 - acc: 0.8968 - val_loss: 0.3646 - val_acc: 0.8953\n",
      "Epoch 22/24\n",
      "2200/2200 [==============================] - 21s 10ms/step - loss: 0.3664 - acc: 0.8809 - val_loss: 0.3705 - val_acc: 0.8940\n",
      "Epoch 23/24\n",
      "2200/2200 [==============================] - 22s 10ms/step - loss: 0.2988 - acc: 0.8982 - val_loss: 0.3618 - val_acc: 0.9047\n",
      "Epoch 24/24\n",
      "2200/2200 [==============================] - 19s 9ms/step - loss: 0.2801 - acc: 0.9109 - val_loss: 0.3037 - val_acc: 0.9128\n",
      "745/745 [==============================] - 2s 3ms/step\n",
      "Test loss: 0.3037192792700441\n",
      "Test accuracy: 0.9127516779323552\n"
     ]
    }
   ],
   "source": [
    "model.compile(\n",
    "    optimizer=\"Adam\",\n",
    "    loss=\"categorical_crossentropy\",\n",
    "    metrics=['accuracy'])\n",
    "\n",
    "model.fit(\n",
    "    x=X_train, \n",
    "    y=y_train,\n",
    "    epochs=24,\n",
    "    batch_size=64,\n",
    "    validation_data= (X_test, y_test))\n",
    "\n",
    "score = model.evaluate(\n",
    "    x=X_test,\n",
    "    y=y_test)\n",
    "\n",
    "print('Test loss:', score[0])\n",
    "print('Test accuracy:', score[1])"
   ]
  },
  {
   "cell_type": "markdown",
   "metadata": {},
   "source": [
    "**************** Save the model "
   ]
  },
  {
   "cell_type": "code",
   "execution_count": 28,
   "metadata": {
    "scrolled": true
   },
   "outputs": [
    {
     "data": {
      "text/plain": [
       "[<tf.Variable 'conv2d_7_1/kernel:0' shape=(5, 5, 1, 24) dtype=float32_ref>,\n",
       " <tf.Variable 'conv2d_7_1/bias:0' shape=(24,) dtype=float32_ref>,\n",
       " <tf.Variable 'conv2d_8_1/kernel:0' shape=(5, 5, 24, 48) dtype=float32_ref>,\n",
       " <tf.Variable 'conv2d_8_1/bias:0' shape=(48,) dtype=float32_ref>,\n",
       " <tf.Variable 'conv2d_9_1/kernel:0' shape=(5, 5, 48, 48) dtype=float32_ref>,\n",
       " <tf.Variable 'conv2d_9_1/bias:0' shape=(48,) dtype=float32_ref>,\n",
       " <tf.Variable 'dense_5_1/kernel:0' shape=(2400, 64) dtype=float32_ref>,\n",
       " <tf.Variable 'dense_5_1/bias:0' shape=(64,) dtype=float32_ref>,\n",
       " <tf.Variable 'dense_6_1/kernel:0' shape=(64, 5) dtype=float32_ref>,\n",
       " <tf.Variable 'dense_6_1/bias:0' shape=(5,) dtype=float32_ref>]"
      ]
     },
     "execution_count": 28,
     "metadata": {},
     "output_type": "execute_result"
    }
   ],
   "source": [
    "# save the model to disk\n",
    "filename = 'trained_model.sav'\n",
    "pickle.dump(model, open(filename, 'wb'))\n",
    "\n",
    "# load the model \n",
    "load_model =pickle.load(open(filename, 'rb'))\n",
    "\n",
    "load_model.weights"
   ]
  },
  {
   "cell_type": "code",
   "execution_count": 29,
   "metadata": {
    "scrolled": true
   },
   "outputs": [
    {
     "name": "stdout",
     "output_type": "stream",
     "text": [
      "745/745 [==============================] - 2s 2ms/step\n",
      "Test loss: 0.3037192792700441\n",
      "Test accuracy: 0.9127516779323552\n"
     ]
    }
   ],
   "source": [
    "score = load_model.evaluate(x=X_test,\n",
    "                       y=y_test)\n",
    "print('Test loss:', score[0])\n",
    "print('Test accuracy:', score[1])"
   ]
  },
  {
   "cell_type": "code",
   "execution_count": 30,
   "metadata": {},
   "outputs": [],
   "source": [
    "# make a predict \n",
    "y_load_predict=load_model.predict(X_test)\n"
   ]
  },
  {
   "cell_type": "code",
   "execution_count": 32,
   "metadata": {},
   "outputs": [
    {
     "data": {
      "text/plain": [
       "array([[2.45730494e-08, 6.37156461e-08, 2.42406413e-01, 6.39073960e-10,\n",
       "        7.57593453e-01],\n",
       "       [3.49787244e-09, 4.93990956e-05, 9.86005762e-04, 1.07898166e-04,\n",
       "        9.98856664e-01],\n",
       "       [2.93242037e-12, 1.43969137e-05, 2.95218506e-05, 9.99197304e-01,\n",
       "        7.58766837e-04],\n",
       "       ...,\n",
       "       [1.00000000e+00, 1.09498591e-20, 2.10621794e-19, 6.26572101e-24,\n",
       "        2.54900345e-24],\n",
       "       [1.71237193e-08, 8.24938989e-12, 9.99999762e-01, 1.98184026e-07,\n",
       "        2.20872938e-11],\n",
       "       [1.19530602e-22, 0.00000000e+00, 1.00000000e+00, 7.18855146e-35,\n",
       "        6.60950025e-22]], dtype=float32)"
      ]
     },
     "execution_count": 32,
     "metadata": {},
     "output_type": "execute_result"
    }
   ],
   "source": [
    "y_load_predict"
   ]
  },
  {
   "cell_type": "code",
   "execution_count": 51,
   "metadata": {},
   "outputs": [],
   "source": [
    "# find out the result\n",
    "encoderX=[]\n",
    "for ID, Class in enumerate(df['classes'].unique()):\n",
    "    encoderX.append([Class, ID])\n",
    "\n",
    "\n",
    "with open(\"encoderX.txt\", \"wb\") as fp:   #Pickling\n",
    "    pickle.dump(encoderX, fp)\n",
    "    \n",
    "y_code = y_load_predict.argmax(axis=1)\n",
    "y_code_ratio = y_load_predict.max(axis=1)\n",
    "\n",
    "y_label = []\n",
    "for ind, code in enumerate(y_code):\n",
    "    if y_code_ratio[ind]<0.6:\n",
    "        y_label.append(['others', 10])\n",
    "    else:\n",
    "        y_label.append(encoderX[code])\n",
    "        "
   ]
  },
  {
   "cell_type": "code",
   "execution_count": 56,
   "metadata": {},
   "outputs": [
    {
     "data": {
      "text/plain": [
       "[['Shaking', 4],\n",
       " ['Shaking', 4],\n",
       " ['Pouring', 3],\n",
       " ['others', 10],\n",
       " ['Cheers', 0],\n",
       " ['Pouring', 3],\n",
       " ['Opening _ Closing', 2],\n",
       " ['Opening _ Closing', 2],\n",
       " ['Opening _ Closing', 2],\n",
       " ['Drinking', 1],\n",
       " ['Pouring', 3],\n",
       " ['Pouring', 3],\n",
       " ['Pouring', 3],\n",
       " ['Opening _ Closing', 2],\n",
       " ['Shaking', 4],\n",
       " ['Drinking', 1],\n",
       " ['Opening _ Closing', 2],\n",
       " ['Pouring', 3],\n",
       " ['Drinking', 1],\n",
       " ['Opening _ Closing', 2],\n",
       " ['Shaking', 4],\n",
       " ['Pouring', 3],\n",
       " ['Opening _ Closing', 2],\n",
       " ['Cheers', 0],\n",
       " ['Cheers', 0],\n",
       " ['Cheers', 0],\n",
       " ['Shaking', 4],\n",
       " ['Pouring', 3],\n",
       " ['Opening _ Closing', 2],\n",
       " ['others', 10],\n",
       " ['Cheers', 0],\n",
       " ['Shaking', 4],\n",
       " ['Cheers', 0],\n",
       " ['Shaking', 4],\n",
       " ['Shaking', 4],\n",
       " ['Shaking', 4],\n",
       " ['Opening _ Closing', 2],\n",
       " ['others', 10],\n",
       " ['Opening _ Closing', 2],\n",
       " ['Opening _ Closing', 2],\n",
       " ['Drinking', 1],\n",
       " ['Shaking', 4],\n",
       " ['Cheers', 0],\n",
       " ['Drinking', 1],\n",
       " ['Opening _ Closing', 2],\n",
       " ['Opening _ Closing', 2],\n",
       " ['Drinking', 1],\n",
       " ['others', 10],\n",
       " ['Shaking', 4],\n",
       " ['Cheers', 0],\n",
       " ['Pouring', 3],\n",
       " ['Drinking', 1],\n",
       " ['Opening _ Closing', 2],\n",
       " ['Pouring', 3],\n",
       " ['Opening _ Closing', 2],\n",
       " ['Drinking', 1],\n",
       " ['Opening _ Closing', 2],\n",
       " ['Pouring', 3],\n",
       " ['Shaking', 4],\n",
       " ['Opening _ Closing', 2],\n",
       " ['Drinking', 1],\n",
       " ['Pouring', 3],\n",
       " ['Pouring', 3],\n",
       " ['Pouring', 3],\n",
       " ['Opening _ Closing', 2],\n",
       " ['Cheers', 0],\n",
       " ['Opening _ Closing', 2],\n",
       " ['Drinking', 1],\n",
       " ['Shaking', 4],\n",
       " ['Pouring', 3],\n",
       " ['Pouring', 3],\n",
       " ['Shaking', 4],\n",
       " ['Opening _ Closing', 2],\n",
       " ['Opening _ Closing', 2],\n",
       " ['Opening _ Closing', 2],\n",
       " ['Shaking', 4],\n",
       " ['Opening _ Closing', 2],\n",
       " ['Shaking', 4],\n",
       " ['Cheers', 0],\n",
       " ['Opening _ Closing', 2],\n",
       " ['Cheers', 0],\n",
       " ['Cheers', 0],\n",
       " ['Opening _ Closing', 2],\n",
       " ['others', 10],\n",
       " ['Shaking', 4],\n",
       " ['Opening _ Closing', 2],\n",
       " ['Shaking', 4],\n",
       " ['Opening _ Closing', 2],\n",
       " ['Opening _ Closing', 2],\n",
       " ['Opening _ Closing', 2],\n",
       " ['Shaking', 4],\n",
       " ['Cheers', 0],\n",
       " ['Opening _ Closing', 2],\n",
       " ['Shaking', 4],\n",
       " ['Cheers', 0],\n",
       " ['Opening _ Closing', 2],\n",
       " ['Pouring', 3],\n",
       " ['Opening _ Closing', 2],\n",
       " ['Opening _ Closing', 2],\n",
       " ['Drinking', 1],\n",
       " ['Cheers', 0],\n",
       " ['Cheers', 0],\n",
       " ['Pouring', 3],\n",
       " ['Opening _ Closing', 2],\n",
       " ['Opening _ Closing', 2],\n",
       " ['Cheers', 0],\n",
       " ['Pouring', 3],\n",
       " ['Opening _ Closing', 2],\n",
       " ['Shaking', 4],\n",
       " ['Opening _ Closing', 2],\n",
       " ['Cheers', 0],\n",
       " ['Cheers', 0],\n",
       " ['others', 10],\n",
       " ['Opening _ Closing', 2],\n",
       " ['others', 10],\n",
       " ['Opening _ Closing', 2],\n",
       " ['Drinking', 1],\n",
       " ['Opening _ Closing', 2],\n",
       " ['Cheers', 0],\n",
       " ['Opening _ Closing', 2],\n",
       " ['Opening _ Closing', 2],\n",
       " ['Pouring', 3],\n",
       " ['Pouring', 3],\n",
       " ['Opening _ Closing', 2],\n",
       " ['Drinking', 1],\n",
       " ['Opening _ Closing', 2],\n",
       " ['Opening _ Closing', 2],\n",
       " ['Cheers', 0],\n",
       " ['Pouring', 3],\n",
       " ['Opening _ Closing', 2],\n",
       " ['Opening _ Closing', 2],\n",
       " ['Opening _ Closing', 2],\n",
       " ['Opening _ Closing', 2],\n",
       " ['Drinking', 1],\n",
       " ['Pouring', 3],\n",
       " ['Cheers', 0],\n",
       " ['Cheers', 0],\n",
       " ['Cheers', 0],\n",
       " ['Shaking', 4],\n",
       " ['Opening _ Closing', 2],\n",
       " ['Cheers', 0],\n",
       " ['Pouring', 3],\n",
       " ['Opening _ Closing', 2],\n",
       " ['Opening _ Closing', 2],\n",
       " ['Pouring', 3],\n",
       " ['Cheers', 0],\n",
       " ['Opening _ Closing', 2],\n",
       " ['Opening _ Closing', 2],\n",
       " ['Pouring', 3],\n",
       " ['Shaking', 4],\n",
       " ['Cheers', 0],\n",
       " ['Opening _ Closing', 2],\n",
       " ['Drinking', 1],\n",
       " ['others', 10],\n",
       " ['Drinking', 1],\n",
       " ['others', 10],\n",
       " ['Drinking', 1],\n",
       " ['others', 10],\n",
       " ['Drinking', 1],\n",
       " ['Shaking', 4],\n",
       " ['Shaking', 4],\n",
       " ['Opening _ Closing', 2],\n",
       " ['Drinking', 1],\n",
       " ['Shaking', 4],\n",
       " ['Opening _ Closing', 2],\n",
       " ['others', 10],\n",
       " ['Pouring', 3],\n",
       " ['Pouring', 3],\n",
       " ['Shaking', 4],\n",
       " ['Opening _ Closing', 2],\n",
       " ['Cheers', 0],\n",
       " ['Opening _ Closing', 2],\n",
       " ['Opening _ Closing', 2],\n",
       " ['Drinking', 1],\n",
       " ['Opening _ Closing', 2],\n",
       " ['Shaking', 4],\n",
       " ['Cheers', 0],\n",
       " ['Cheers', 0],\n",
       " ['Pouring', 3],\n",
       " ['Pouring', 3],\n",
       " ['Opening _ Closing', 2],\n",
       " ['Drinking', 1],\n",
       " ['Drinking', 1],\n",
       " ['Shaking', 4],\n",
       " ['Cheers', 0],\n",
       " ['Shaking', 4],\n",
       " ['Pouring', 3],\n",
       " ['Opening _ Closing', 2],\n",
       " ['Cheers', 0],\n",
       " ['Pouring', 3],\n",
       " ['Drinking', 1],\n",
       " ['others', 10],\n",
       " ['others', 10],\n",
       " ['others', 10],\n",
       " ['Opening _ Closing', 2],\n",
       " ['Opening _ Closing', 2],\n",
       " ['Opening _ Closing', 2],\n",
       " ['Shaking', 4],\n",
       " ['Shaking', 4],\n",
       " ['Cheers', 0],\n",
       " ['others', 10],\n",
       " ['Opening _ Closing', 2],\n",
       " ['Shaking', 4],\n",
       " ['Opening _ Closing', 2],\n",
       " ['Drinking', 1],\n",
       " ['Opening _ Closing', 2],\n",
       " ['Pouring', 3],\n",
       " ['others', 10],\n",
       " ['Drinking', 1],\n",
       " ['Opening _ Closing', 2],\n",
       " ['others', 10],\n",
       " ['Drinking', 1],\n",
       " ['Shaking', 4],\n",
       " ['Shaking', 4],\n",
       " ['Shaking', 4],\n",
       " ['Drinking', 1],\n",
       " ['Shaking', 4],\n",
       " ['Shaking', 4],\n",
       " ['Shaking', 4],\n",
       " ['Opening _ Closing', 2],\n",
       " ['Drinking', 1],\n",
       " ['Shaking', 4],\n",
       " ['Pouring', 3],\n",
       " ['Cheers', 0],\n",
       " ['Opening _ Closing', 2],\n",
       " ['Opening _ Closing', 2],\n",
       " ['others', 10],\n",
       " ['Shaking', 4],\n",
       " ['Pouring', 3],\n",
       " ['Shaking', 4],\n",
       " ['Opening _ Closing', 2],\n",
       " ['Opening _ Closing', 2],\n",
       " ['Opening _ Closing', 2],\n",
       " ['Opening _ Closing', 2],\n",
       " ['Shaking', 4],\n",
       " ['Opening _ Closing', 2],\n",
       " ['Opening _ Closing', 2],\n",
       " ['Shaking', 4],\n",
       " ['Shaking', 4],\n",
       " ['Shaking', 4],\n",
       " ['Pouring', 3],\n",
       " ['Drinking', 1],\n",
       " ['Opening _ Closing', 2],\n",
       " ['Cheers', 0],\n",
       " ['Shaking', 4],\n",
       " ['Opening _ Closing', 2],\n",
       " ['Pouring', 3],\n",
       " ['Opening _ Closing', 2],\n",
       " ['others', 10],\n",
       " ['Pouring', 3],\n",
       " ['Shaking', 4],\n",
       " ['Opening _ Closing', 2],\n",
       " ['Opening _ Closing', 2],\n",
       " ['Opening _ Closing', 2],\n",
       " ['Shaking', 4],\n",
       " ['Drinking', 1],\n",
       " ['Cheers', 0],\n",
       " ['others', 10],\n",
       " ['Shaking', 4],\n",
       " ['Cheers', 0],\n",
       " ['others', 10],\n",
       " ['Shaking', 4],\n",
       " ['Shaking', 4],\n",
       " ['Opening _ Closing', 2],\n",
       " ['Pouring', 3],\n",
       " ['Drinking', 1],\n",
       " ['Opening _ Closing', 2],\n",
       " ['Cheers', 0],\n",
       " ['Cheers', 0],\n",
       " ['Shaking', 4],\n",
       " ['Shaking', 4],\n",
       " ['Cheers', 0],\n",
       " ['others', 10],\n",
       " ['Shaking', 4],\n",
       " ['Pouring', 3],\n",
       " ['Drinking', 1],\n",
       " ['Shaking', 4],\n",
       " ['Shaking', 4],\n",
       " ['Pouring', 3],\n",
       " ['Drinking', 1],\n",
       " ['others', 10],\n",
       " ['Pouring', 3],\n",
       " ['Opening _ Closing', 2],\n",
       " ['Cheers', 0],\n",
       " ['Opening _ Closing', 2],\n",
       " ['Pouring', 3],\n",
       " ['Pouring', 3],\n",
       " ['Cheers', 0],\n",
       " ['Opening _ Closing', 2],\n",
       " ['Cheers', 0],\n",
       " ['Cheers', 0],\n",
       " ['others', 10],\n",
       " ['others', 10],\n",
       " ['Opening _ Closing', 2],\n",
       " ['Opening _ Closing', 2],\n",
       " ['Drinking', 1],\n",
       " ['Pouring', 3],\n",
       " ['Opening _ Closing', 2],\n",
       " ['Opening _ Closing', 2],\n",
       " ['Shaking', 4],\n",
       " ['Shaking', 4],\n",
       " ['Opening _ Closing', 2],\n",
       " ['Pouring', 3],\n",
       " ['Shaking', 4],\n",
       " ['Cheers', 0],\n",
       " ['Shaking', 4],\n",
       " ['others', 10],\n",
       " ['Opening _ Closing', 2],\n",
       " ['Opening _ Closing', 2],\n",
       " ['Opening _ Closing', 2],\n",
       " ['Shaking', 4],\n",
       " ['Shaking', 4],\n",
       " ['Cheers', 0],\n",
       " ['Shaking', 4],\n",
       " ['Cheers', 0],\n",
       " ['Opening _ Closing', 2],\n",
       " ['Pouring', 3],\n",
       " ['Cheers', 0],\n",
       " ['Shaking', 4],\n",
       " ['Drinking', 1],\n",
       " ['Pouring', 3],\n",
       " ['Pouring', 3],\n",
       " ['Shaking', 4],\n",
       " ['Opening _ Closing', 2],\n",
       " ['Opening _ Closing', 2],\n",
       " ['Shaking', 4],\n",
       " ['others', 10],\n",
       " ['Shaking', 4],\n",
       " ['others', 10],\n",
       " ['Cheers', 0],\n",
       " ['Pouring', 3],\n",
       " ['Shaking', 4],\n",
       " ['Opening _ Closing', 2],\n",
       " ['Shaking', 4],\n",
       " ['others', 10],\n",
       " ['Opening _ Closing', 2],\n",
       " ['Cheers', 0],\n",
       " ['Shaking', 4],\n",
       " ['Opening _ Closing', 2],\n",
       " ['Drinking', 1],\n",
       " ['Pouring', 3],\n",
       " ['Shaking', 4],\n",
       " ['Cheers', 0],\n",
       " ['Opening _ Closing', 2],\n",
       " ['Opening _ Closing', 2],\n",
       " ['Opening _ Closing', 2],\n",
       " ['Cheers', 0],\n",
       " ['Opening _ Closing', 2],\n",
       " ['Opening _ Closing', 2],\n",
       " ['Opening _ Closing', 2],\n",
       " ['Opening _ Closing', 2],\n",
       " ['Cheers', 0],\n",
       " ['Shaking', 4],\n",
       " ['Drinking', 1],\n",
       " ['Shaking', 4],\n",
       " ['Opening _ Closing', 2],\n",
       " ['Drinking', 1],\n",
       " ['Pouring', 3],\n",
       " ['Drinking', 1],\n",
       " ['Opening _ Closing', 2],\n",
       " ['others', 10],\n",
       " ['Opening _ Closing', 2],\n",
       " ['Drinking', 1],\n",
       " ['Shaking', 4],\n",
       " ['Opening _ Closing', 2],\n",
       " ['Opening _ Closing', 2],\n",
       " ['Shaking', 4],\n",
       " ['Shaking', 4],\n",
       " ['Opening _ Closing', 2],\n",
       " ['Opening _ Closing', 2],\n",
       " ['Pouring', 3],\n",
       " ['Pouring', 3],\n",
       " ['Opening _ Closing', 2],\n",
       " ['Cheers', 0],\n",
       " ['others', 10],\n",
       " ['Drinking', 1],\n",
       " ['Cheers', 0],\n",
       " ['Drinking', 1],\n",
       " ['Opening _ Closing', 2],\n",
       " ['Opening _ Closing', 2],\n",
       " ['Cheers', 0],\n",
       " ['Cheers', 0],\n",
       " ['Opening _ Closing', 2],\n",
       " ['Shaking', 4],\n",
       " ['Shaking', 4],\n",
       " ['Opening _ Closing', 2],\n",
       " ['Shaking', 4],\n",
       " ['Pouring', 3],\n",
       " ['Opening _ Closing', 2],\n",
       " ['Pouring', 3],\n",
       " ['Drinking', 1],\n",
       " ['Shaking', 4],\n",
       " ['Pouring', 3],\n",
       " ['Opening _ Closing', 2],\n",
       " ['Pouring', 3],\n",
       " ['others', 10],\n",
       " ['Opening _ Closing', 2],\n",
       " ['Pouring', 3],\n",
       " ['Opening _ Closing', 2],\n",
       " ['Opening _ Closing', 2],\n",
       " ['Shaking', 4],\n",
       " ['Opening _ Closing', 2],\n",
       " ['Opening _ Closing', 2],\n",
       " ['Pouring', 3],\n",
       " ['Cheers', 0],\n",
       " ['others', 10],\n",
       " ['Opening _ Closing', 2],\n",
       " ['Shaking', 4],\n",
       " ['Pouring', 3],\n",
       " ['Drinking', 1],\n",
       " ['Opening _ Closing', 2],\n",
       " ['Pouring', 3],\n",
       " ['Opening _ Closing', 2],\n",
       " ['Cheers', 0],\n",
       " ['Shaking', 4],\n",
       " ['others', 10],\n",
       " ['Cheers', 0],\n",
       " ['Shaking', 4],\n",
       " ['Drinking', 1],\n",
       " ['Opening _ Closing', 2],\n",
       " ['Shaking', 4],\n",
       " ['Opening _ Closing', 2],\n",
       " ['others', 10],\n",
       " ['Pouring', 3],\n",
       " ['Opening _ Closing', 2],\n",
       " ['Shaking', 4],\n",
       " ['Pouring', 3],\n",
       " ['Pouring', 3],\n",
       " ['Pouring', 3],\n",
       " ['Opening _ Closing', 2],\n",
       " ['Cheers', 0],\n",
       " ['Opening _ Closing', 2],\n",
       " ['Opening _ Closing', 2],\n",
       " ['Cheers', 0],\n",
       " ['Opening _ Closing', 2],\n",
       " ['others', 10],\n",
       " ['Cheers', 0],\n",
       " ['Shaking', 4],\n",
       " ['Opening _ Closing', 2],\n",
       " ['Pouring', 3],\n",
       " ['Cheers', 0],\n",
       " ['Pouring', 3],\n",
       " ['Drinking', 1],\n",
       " ['Shaking', 4],\n",
       " ['Pouring', 3],\n",
       " ['Shaking', 4],\n",
       " ['Opening _ Closing', 2],\n",
       " ['Shaking', 4],\n",
       " ['Shaking', 4],\n",
       " ['Drinking', 1],\n",
       " ['Shaking', 4],\n",
       " ['Shaking', 4],\n",
       " ['Opening _ Closing', 2],\n",
       " ['Opening _ Closing', 2],\n",
       " ['Cheers', 0],\n",
       " ['Shaking', 4],\n",
       " ['Opening _ Closing', 2],\n",
       " ['Shaking', 4],\n",
       " ['Cheers', 0],\n",
       " ['others', 10],\n",
       " ['Opening _ Closing', 2],\n",
       " ['Drinking', 1],\n",
       " ['Cheers', 0],\n",
       " ['Drinking', 1],\n",
       " ['Shaking', 4],\n",
       " ['Pouring', 3],\n",
       " ['Opening _ Closing', 2],\n",
       " ['Pouring', 3],\n",
       " ['Opening _ Closing', 2],\n",
       " ['Shaking', 4],\n",
       " ['Shaking', 4],\n",
       " ['Pouring', 3],\n",
       " ['others', 10],\n",
       " ['Shaking', 4],\n",
       " ['Shaking', 4],\n",
       " ['Opening _ Closing', 2],\n",
       " ['Opening _ Closing', 2],\n",
       " ['Opening _ Closing', 2],\n",
       " ['Drinking', 1],\n",
       " ['Shaking', 4],\n",
       " ['Drinking', 1],\n",
       " ['Cheers', 0],\n",
       " ['Opening _ Closing', 2],\n",
       " ['Opening _ Closing', 2],\n",
       " ['Drinking', 1],\n",
       " ['Shaking', 4],\n",
       " ['Cheers', 0],\n",
       " ['Opening _ Closing', 2],\n",
       " ['others', 10],\n",
       " ['Cheers', 0],\n",
       " ['Cheers', 0],\n",
       " ['Pouring', 3],\n",
       " ['Opening _ Closing', 2],\n",
       " ['Shaking', 4],\n",
       " ['Shaking', 4],\n",
       " ['Shaking', 4],\n",
       " ['Drinking', 1],\n",
       " ['Shaking', 4],\n",
       " ['others', 10],\n",
       " ['Cheers', 0],\n",
       " ['Pouring', 3],\n",
       " ['Cheers', 0],\n",
       " ['Pouring', 3],\n",
       " ['Drinking', 1],\n",
       " ['Shaking', 4],\n",
       " ['Drinking', 1],\n",
       " ['Shaking', 4],\n",
       " ['Opening _ Closing', 2],\n",
       " ['Pouring', 3],\n",
       " ['Opening _ Closing', 2],\n",
       " ['Shaking', 4],\n",
       " ['Drinking', 1],\n",
       " ['Opening _ Closing', 2],\n",
       " ['Shaking', 4],\n",
       " ['Shaking', 4],\n",
       " ['Cheers', 0],\n",
       " ['Drinking', 1],\n",
       " ['Opening _ Closing', 2],\n",
       " ['Opening _ Closing', 2],\n",
       " ['Opening _ Closing', 2],\n",
       " ['Opening _ Closing', 2],\n",
       " ['Opening _ Closing', 2],\n",
       " ['Cheers', 0],\n",
       " ['Opening _ Closing', 2],\n",
       " ['Shaking', 4],\n",
       " ['Shaking', 4],\n",
       " ['Cheers', 0],\n",
       " ['Opening _ Closing', 2],\n",
       " ['Cheers', 0],\n",
       " ['Opening _ Closing', 2],\n",
       " ['Cheers', 0],\n",
       " ['Shaking', 4],\n",
       " ['Opening _ Closing', 2],\n",
       " ['Opening _ Closing', 2],\n",
       " ['Opening _ Closing', 2],\n",
       " ['Opening _ Closing', 2],\n",
       " ['Opening _ Closing', 2],\n",
       " ['Cheers', 0],\n",
       " ['Shaking', 4],\n",
       " ['Pouring', 3],\n",
       " ['Shaking', 4],\n",
       " ['Cheers', 0],\n",
       " ['Pouring', 3],\n",
       " ['Shaking', 4],\n",
       " ['Opening _ Closing', 2],\n",
       " ['others', 10],\n",
       " ['Shaking', 4],\n",
       " ['Shaking', 4],\n",
       " ['Shaking', 4],\n",
       " ['Opening _ Closing', 2],\n",
       " ['Opening _ Closing', 2],\n",
       " ['others', 10],\n",
       " ['Shaking', 4],\n",
       " ['Shaking', 4],\n",
       " ['Opening _ Closing', 2],\n",
       " ['Opening _ Closing', 2],\n",
       " ['Cheers', 0],\n",
       " ['Shaking', 4],\n",
       " ['Pouring', 3],\n",
       " ['Drinking', 1],\n",
       " ['Cheers', 0],\n",
       " ['Cheers', 0],\n",
       " ['Opening _ Closing', 2],\n",
       " ['Drinking', 1],\n",
       " ['Shaking', 4],\n",
       " ['Opening _ Closing', 2],\n",
       " ['others', 10],\n",
       " ['Opening _ Closing', 2],\n",
       " ['Cheers', 0],\n",
       " ['Shaking', 4],\n",
       " ['Opening _ Closing', 2],\n",
       " ['Pouring', 3],\n",
       " ['Opening _ Closing', 2],\n",
       " ['Opening _ Closing', 2],\n",
       " ['Opening _ Closing', 2],\n",
       " ['Drinking', 1],\n",
       " ['others', 10],\n",
       " ['Cheers', 0],\n",
       " ['Cheers', 0],\n",
       " ['others', 10],\n",
       " ['Drinking', 1],\n",
       " ['Opening _ Closing', 2],\n",
       " ['Opening _ Closing', 2],\n",
       " ['Shaking', 4],\n",
       " ['Shaking', 4],\n",
       " ['Pouring', 3],\n",
       " ['Opening _ Closing', 2],\n",
       " ['Pouring', 3],\n",
       " ['others', 10],\n",
       " ['Shaking', 4],\n",
       " ['Pouring', 3],\n",
       " ['Cheers', 0],\n",
       " ['Opening _ Closing', 2],\n",
       " ['Drinking', 1],\n",
       " ['Cheers', 0],\n",
       " ['Opening _ Closing', 2],\n",
       " ['Drinking', 1],\n",
       " ['Cheers', 0],\n",
       " ['Opening _ Closing', 2],\n",
       " ['Opening _ Closing', 2],\n",
       " ['Cheers', 0],\n",
       " ['Shaking', 4],\n",
       " ['Shaking', 4],\n",
       " ['Shaking', 4],\n",
       " ['Opening _ Closing', 2],\n",
       " ['Opening _ Closing', 2],\n",
       " ['Shaking', 4],\n",
       " ['Shaking', 4],\n",
       " ['Opening _ Closing', 2],\n",
       " ['Shaking', 4],\n",
       " ['others', 10],\n",
       " ['Pouring', 3],\n",
       " ['Shaking', 4],\n",
       " ['Opening _ Closing', 2],\n",
       " ['Cheers', 0],\n",
       " ['Pouring', 3],\n",
       " ['Opening _ Closing', 2],\n",
       " ['Opening _ Closing', 2],\n",
       " ['Drinking', 1],\n",
       " ['Opening _ Closing', 2],\n",
       " ['Opening _ Closing', 2],\n",
       " ['Pouring', 3],\n",
       " ['Opening _ Closing', 2],\n",
       " ['Drinking', 1],\n",
       " ['Opening _ Closing', 2],\n",
       " ['others', 10],\n",
       " ['Shaking', 4],\n",
       " ['Opening _ Closing', 2],\n",
       " ['Opening _ Closing', 2],\n",
       " ['Cheers', 0],\n",
       " ['Pouring', 3],\n",
       " ['Opening _ Closing', 2],\n",
       " ['Opening _ Closing', 2],\n",
       " ['Shaking', 4],\n",
       " ['Opening _ Closing', 2],\n",
       " ['Cheers', 0],\n",
       " ['Shaking', 4],\n",
       " ['Cheers', 0],\n",
       " ['others', 10],\n",
       " ['Shaking', 4],\n",
       " ['Cheers', 0],\n",
       " ['Opening _ Closing', 2],\n",
       " ['Opening _ Closing', 2],\n",
       " ['Cheers', 0],\n",
       " ['Shaking', 4],\n",
       " ['Shaking', 4],\n",
       " ['Opening _ Closing', 2],\n",
       " ['Drinking', 1],\n",
       " ['Cheers', 0],\n",
       " ['Opening _ Closing', 2],\n",
       " ['Pouring', 3],\n",
       " ['others', 10],\n",
       " ['others', 10],\n",
       " ['Pouring', 3],\n",
       " ['Shaking', 4],\n",
       " ['Opening _ Closing', 2],\n",
       " ['others', 10],\n",
       " ['Pouring', 3],\n",
       " ['Shaking', 4],\n",
       " ['Cheers', 0],\n",
       " ['Pouring', 3],\n",
       " ['Cheers', 0],\n",
       " ['Opening _ Closing', 2],\n",
       " ['Pouring', 3],\n",
       " ['Opening _ Closing', 2],\n",
       " ['Shaking', 4],\n",
       " ['Opening _ Closing', 2],\n",
       " ['Drinking', 1],\n",
       " ['Opening _ Closing', 2],\n",
       " ['others', 10],\n",
       " ['Shaking', 4],\n",
       " ['Pouring', 3],\n",
       " ['Cheers', 0],\n",
       " ['Shaking', 4],\n",
       " ['Shaking', 4],\n",
       " ['Pouring', 3],\n",
       " ['others', 10],\n",
       " ['Shaking', 4],\n",
       " ['Cheers', 0],\n",
       " ['Cheers', 0],\n",
       " ['Opening _ Closing', 2],\n",
       " ['Opening _ Closing', 2],\n",
       " ['Shaking', 4],\n",
       " ['Opening _ Closing', 2],\n",
       " ['Opening _ Closing', 2],\n",
       " ['Drinking', 1],\n",
       " ['others', 10],\n",
       " ['others', 10],\n",
       " ['Shaking', 4],\n",
       " ['Opening _ Closing', 2],\n",
       " ['Shaking', 4],\n",
       " ['Shaking', 4],\n",
       " ['Shaking', 4],\n",
       " ['Opening _ Closing', 2],\n",
       " ['Opening _ Closing', 2],\n",
       " ['Drinking', 1],\n",
       " ['Shaking', 4],\n",
       " ['Cheers', 0],\n",
       " ['others', 10],\n",
       " ['Opening _ Closing', 2],\n",
       " ['Opening _ Closing', 2],\n",
       " ['Opening _ Closing', 2],\n",
       " ['Drinking', 1],\n",
       " ['Shaking', 4],\n",
       " ['Opening _ Closing', 2],\n",
       " ['Opening _ Closing', 2],\n",
       " ['Drinking', 1],\n",
       " ['Shaking', 4],\n",
       " ['Drinking', 1],\n",
       " ['Opening _ Closing', 2],\n",
       " ['Opening _ Closing', 2],\n",
       " ['Cheers', 0],\n",
       " ['Opening _ Closing', 2],\n",
       " ['Opening _ Closing', 2],\n",
       " ['Shaking', 4],\n",
       " ['Pouring', 3],\n",
       " ['Cheers', 0],\n",
       " ['Shaking', 4],\n",
       " ['Drinking', 1],\n",
       " ['Cheers', 0],\n",
       " ['Drinking', 1],\n",
       " ['Shaking', 4],\n",
       " ['Opening _ Closing', 2],\n",
       " ['Cheers', 0],\n",
       " ['Opening _ Closing', 2],\n",
       " ['Cheers', 0],\n",
       " ['Shaking', 4],\n",
       " ['Opening _ Closing', 2],\n",
       " ['Pouring', 3],\n",
       " ['Cheers', 0],\n",
       " ['Pouring', 3],\n",
       " ['Drinking', 1],\n",
       " ['Opening _ Closing', 2],\n",
       " ['Cheers', 0],\n",
       " ['Opening _ Closing', 2],\n",
       " ['Shaking', 4],\n",
       " ['Cheers', 0],\n",
       " ['Cheers', 0],\n",
       " ['Shaking', 4],\n",
       " ['Opening _ Closing', 2],\n",
       " ['Drinking', 1],\n",
       " ['others', 10],\n",
       " ['Cheers', 0],\n",
       " ['Opening _ Closing', 2],\n",
       " ['Opening _ Closing', 2]]"
      ]
     },
     "execution_count": 56,
     "metadata": {},
     "output_type": "execute_result"
    }
   ],
   "source": []
  },
  {
   "cell_type": "markdown",
   "metadata": {},
   "source": [
    "#read the sound file and make predict"
   ]
  },
  {
   "cell_type": "markdown",
   "metadata": {},
   "source": [
    "#Example of a AC spectrogram\n",
    "y, sr = librosa.load('Datasets/Opening _ Closing/1–3 Gloucester Road 13.m4a', duration=2.97)\n",
    "ps = librosa.feature.melspectrogram(y=y, sr=sr)\n"
   ]
  },
  {
   "cell_type": "code",
   "execution_count": null,
   "metadata": {},
   "outputs": [],
   "source": []
  }
 ],
 "metadata": {
  "kernelspec": {
   "display_name": "Python 3",
   "language": "python",
   "name": "python3"
  },
  "language_info": {
   "codemirror_mode": {
    "name": "ipython",
    "version": 3
   },
   "file_extension": ".py",
   "mimetype": "text/x-python",
   "name": "python",
   "nbconvert_exporter": "python",
   "pygments_lexer": "ipython3",
   "version": "3.7.3"
  }
 },
 "nbformat": 4,
 "nbformat_minor": 2
}
